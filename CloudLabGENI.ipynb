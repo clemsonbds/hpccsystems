{
 "cells": [
  {
   "cell_type": "code",
   "execution_count": null,
   "metadata": {
    "collapsed": true
   },
   "outputs": [],
   "source": [
    "#pip install --user m2crypto"
   ]
  },
  {
   "cell_type": "code",
   "execution_count": 1,
   "metadata": {
    "collapsed": false
   },
   "outputs": [
    {
     "ename": "ImportError",
     "evalue": "/lib64/libc.so.6: version `GLIBC_2.14' not found (required by /home/lngo/.local/lib/python2.7/site-packages/M2Crypto/__m2crypto.so)",
     "output_type": "error",
     "traceback": [
      "\u001b[0;31m---------------------------------------------------------------------------\u001b[0m",
      "\u001b[0;31mImportError\u001b[0m                               Traceback (most recent call last)",
      "\u001b[0;32m<ipython-input-1-6b78743c3fb9>\u001b[0m in \u001b[0;36m<module>\u001b[0;34m()\u001b[0m\n\u001b[1;32m     23\u001b[0m \u001b[0;32mimport\u001b[0m \u001b[0mgeni\u001b[0m\u001b[0;34m.\u001b[0m\u001b[0maggregate\u001b[0m\u001b[0;34m.\u001b[0m\u001b[0minstageni\u001b[0m \u001b[0;32mas\u001b[0m \u001b[0mIG\u001b[0m\u001b[0;34m\u001b[0m\u001b[0m\n\u001b[1;32m     24\u001b[0m \u001b[0;32mimport\u001b[0m \u001b[0mpprint\u001b[0m\u001b[0;34m\u001b[0m\u001b[0m\n\u001b[0;32m---> 25\u001b[0;31m \u001b[0mpprint\u001b[0m\u001b[0;34m.\u001b[0m\u001b[0mpprint\u001b[0m\u001b[0;34m(\u001b[0m\u001b[0mIG\u001b[0m\u001b[0;34m.\u001b[0m\u001b[0mGPO\u001b[0m\u001b[0;34m.\u001b[0m\u001b[0mgetversion\u001b[0m\u001b[0;34m(\u001b[0m\u001b[0mcontext\u001b[0m\u001b[0;34m)\u001b[0m\u001b[0;34m)\u001b[0m\u001b[0;34m\u001b[0m\u001b[0m\n\u001b[0m",
      "\u001b[0;32m/home/lngo/.local/lib/python2.7/site-packages/geni_lib-0.9-py2.7.egg/geni/aggregate/core.pyc\u001b[0m in \u001b[0;36mgetversion\u001b[0;34m(self, context)\u001b[0m\n\u001b[1;32m     98\u001b[0m \u001b[0;34m\u001b[0m\u001b[0m\n\u001b[1;32m     99\u001b[0m   \u001b[0;32mdef\u001b[0m \u001b[0mgetversion\u001b[0m \u001b[0;34m(\u001b[0m\u001b[0mself\u001b[0m\u001b[0;34m,\u001b[0m \u001b[0mcontext\u001b[0m\u001b[0;34m)\u001b[0m\u001b[0;34m:\u001b[0m\u001b[0;34m\u001b[0m\u001b[0m\n\u001b[0;32m--> 100\u001b[0;31m     \u001b[0;32mreturn\u001b[0m \u001b[0mself\u001b[0m\u001b[0;34m.\u001b[0m\u001b[0mapi\u001b[0m\u001b[0;34m.\u001b[0m\u001b[0mgetversion\u001b[0m\u001b[0;34m(\u001b[0m\u001b[0mcontext\u001b[0m\u001b[0;34m,\u001b[0m \u001b[0mself\u001b[0m\u001b[0;34m.\u001b[0m\u001b[0murl\u001b[0m\u001b[0;34m)\u001b[0m\u001b[0;34m\u001b[0m\u001b[0m\n\u001b[0m\u001b[1;32m    101\u001b[0m \u001b[0;34m\u001b[0m\u001b[0m\n\u001b[1;32m    102\u001b[0m \u001b[0;34m\u001b[0m\u001b[0m\n",
      "\u001b[0;32m/home/lngo/.local/lib/python2.7/site-packages/geni_lib-0.9-py2.7.egg/geni/aggregate/apis.pyc\u001b[0m in \u001b[0;36mgetversion\u001b[0;34m(self, context, url)\u001b[0m\n\u001b[1;32m    113\u001b[0m \u001b[0;34m\u001b[0m\u001b[0m\n\u001b[1;32m    114\u001b[0m   \u001b[0;32mdef\u001b[0m \u001b[0mgetversion\u001b[0m \u001b[0;34m(\u001b[0m\u001b[0mself\u001b[0m\u001b[0;34m,\u001b[0m \u001b[0mcontext\u001b[0m\u001b[0;34m,\u001b[0m \u001b[0murl\u001b[0m\u001b[0;34m)\u001b[0m\u001b[0;34m:\u001b[0m\u001b[0;34m\u001b[0m\u001b[0m\n\u001b[0;32m--> 115\u001b[0;31m     \u001b[0;32mfrom\u001b[0m \u001b[0;34m.\u001b[0m\u001b[0;34m.\u001b[0m\u001b[0mgcf\u001b[0m \u001b[0;32mimport\u001b[0m \u001b[0moscript\u001b[0m\u001b[0;34m\u001b[0m\u001b[0m\n\u001b[0m\u001b[1;32m    116\u001b[0m     \u001b[0marglist\u001b[0m \u001b[0;34m=\u001b[0m \u001b[0mself\u001b[0m\u001b[0;34m.\u001b[0m\u001b[0m_getDefaultArgs\u001b[0m\u001b[0;34m(\u001b[0m\u001b[0mcontext\u001b[0m\u001b[0;34m,\u001b[0m \u001b[0murl\u001b[0m\u001b[0;34m)\u001b[0m\u001b[0;34m\u001b[0m\u001b[0m\n\u001b[1;32m    117\u001b[0m     \u001b[0marglist\u001b[0m\u001b[0;34m.\u001b[0m\u001b[0mextend\u001b[0m\u001b[0;34m(\u001b[0m\u001b[0;34m[\u001b[0m\u001b[0;34m\"getversion\"\u001b[0m\u001b[0;34m]\u001b[0m\u001b[0;34m)\u001b[0m\u001b[0;34m\u001b[0m\u001b[0m\n",
      "\u001b[0;32m/home/lngo/.local/lib/python2.7/site-packages/geni_lib-0.9-py2.7.egg/geni/gcf/oscript.py\u001b[0m in \u001b[0;36m<module>\u001b[0;34m()\u001b[0m\n\u001b[1;32m    118\u001b[0m \u001b[0;32mimport\u001b[0m \u001b[0murllib\u001b[0m\u001b[0;34m\u001b[0m\u001b[0m\n\u001b[1;32m    119\u001b[0m \u001b[0;34m\u001b[0m\u001b[0m\n\u001b[0;32m--> 120\u001b[0;31m \u001b[0;32mfrom\u001b[0m \u001b[0;34m.\u001b[0m\u001b[0momnilib\u001b[0m\u001b[0;34m.\u001b[0m\u001b[0mutil\u001b[0m \u001b[0;32mimport\u001b[0m \u001b[0mOmniError\u001b[0m\u001b[0;34m,\u001b[0m \u001b[0mAMAPIError\u001b[0m\u001b[0;34m\u001b[0m\u001b[0m\n\u001b[0m\u001b[1;32m    121\u001b[0m \u001b[0;32mfrom\u001b[0m \u001b[0;34m.\u001b[0m\u001b[0momnilib\u001b[0m\u001b[0;34m.\u001b[0m\u001b[0mhandler\u001b[0m \u001b[0;32mimport\u001b[0m \u001b[0mCallHandler\u001b[0m\u001b[0;34m\u001b[0m\u001b[0m\n\u001b[1;32m    122\u001b[0m \u001b[0;32mfrom\u001b[0m \u001b[0;34m.\u001b[0m\u001b[0momnilib\u001b[0m\u001b[0;34m.\u001b[0m\u001b[0mutil\u001b[0m\u001b[0;34m.\u001b[0m\u001b[0mhandler_utils\u001b[0m \u001b[0;32mimport\u001b[0m \u001b[0mvalidate_url\u001b[0m\u001b[0;34m,\u001b[0m \u001b[0mprintNicknames\u001b[0m\u001b[0;34m\u001b[0m\u001b[0m\n",
      "\u001b[0;32m/home/lngo/.local/lib/python2.7/site-packages/geni_lib-0.9-py2.7.egg/geni/gcf/omnilib/util/__init__.py\u001b[0m in \u001b[0;36m<module>\u001b[0;34m()\u001b[0m\n\u001b[1;32m     25\u001b[0m \u001b[0;32mfrom\u001b[0m \u001b[0;34m.\u001b[0m\u001b[0momnierror\u001b[0m \u001b[0;32mimport\u001b[0m \u001b[0mOmniError\u001b[0m\u001b[0;34m,\u001b[0m \u001b[0mNoSliceCredError\u001b[0m\u001b[0;34m,\u001b[0m \u001b[0mRefusedError\u001b[0m\u001b[0;34m,\u001b[0m \u001b[0mAMAPIError\u001b[0m\u001b[0;34m\u001b[0m\u001b[0m\n\u001b[1;32m     26\u001b[0m \u001b[0;32mfrom\u001b[0m \u001b[0;34m.\u001b[0m\u001b[0mdates\u001b[0m \u001b[0;32mimport\u001b[0m \u001b[0mnaiveUTC\u001b[0m\u001b[0;34m\u001b[0m\u001b[0m\n\u001b[0;32m---> 27\u001b[0;31m \u001b[0;32mfrom\u001b[0m \u001b[0;34m.\u001b[0m \u001b[0;32mimport\u001b[0m \u001b[0mhandler_utils\u001b[0m\u001b[0;34m\u001b[0m\u001b[0m\n\u001b[0m",
      "\u001b[0;32m/home/lngo/.local/lib/python2.7/site-packages/geni_lib-0.9-py2.7.egg/geni/gcf/omnilib/util/handler_utils.py\u001b[0m in \u001b[0;36m<module>\u001b[0;34m()\u001b[0m\n\u001b[1;32m     34\u001b[0m \u001b[0;34m\u001b[0m\u001b[0m\n\u001b[1;32m     35\u001b[0m \u001b[0;32mfrom\u001b[0m \u001b[0;34m.\u001b[0m \u001b[0;32mimport\u001b[0m \u001b[0mjson_encoding\u001b[0m\u001b[0;34m\u001b[0m\u001b[0m\n\u001b[0;32m---> 36\u001b[0;31m \u001b[0;32mfrom\u001b[0m \u001b[0;34m.\u001b[0m \u001b[0;32mimport\u001b[0m \u001b[0mcredparsing\u001b[0m \u001b[0;32mas\u001b[0m \u001b[0mcredutils\u001b[0m\u001b[0;34m\u001b[0m\u001b[0m\n\u001b[0m\u001b[1;32m     37\u001b[0m \u001b[0;32mfrom\u001b[0m \u001b[0;34m.\u001b[0m\u001b[0mdossl\u001b[0m \u001b[0;32mimport\u001b[0m \u001b[0m_do_ssl\u001b[0m\u001b[0;34m\u001b[0m\u001b[0m\n\u001b[1;32m     38\u001b[0m \u001b[0;32mfrom\u001b[0m \u001b[0;34m.\u001b[0m\u001b[0mdates\u001b[0m \u001b[0;32mimport\u001b[0m \u001b[0mnaiveUTC\u001b[0m\u001b[0;34m\u001b[0m\u001b[0m\n",
      "\u001b[0;32m/home/lngo/.local/lib/python2.7/site-packages/geni_lib-0.9-py2.7.egg/geni/gcf/omnilib/util/credparsing.py\u001b[0m in \u001b[0;36m<module>\u001b[0;34m()\u001b[0m\n\u001b[1;32m     35\u001b[0m \u001b[0;32mimport\u001b[0m \u001b[0mxml\u001b[0m\u001b[0;34m.\u001b[0m\u001b[0mdom\u001b[0m\u001b[0;34m.\u001b[0m\u001b[0mminidom\u001b[0m \u001b[0;32mas\u001b[0m \u001b[0mmd\u001b[0m\u001b[0;34m\u001b[0m\u001b[0m\n\u001b[1;32m     36\u001b[0m \u001b[0;34m\u001b[0m\u001b[0m\n\u001b[0;32m---> 37\u001b[0;31m \u001b[0;32mfrom\u001b[0m \u001b[0;34m.\u001b[0m\u001b[0;34m.\u001b[0m\u001b[0;34m.\u001b[0m\u001b[0msfa\u001b[0m\u001b[0;34m.\u001b[0m\u001b[0mtrust\u001b[0m\u001b[0;34m.\u001b[0m\u001b[0mcredential\u001b[0m \u001b[0;32mimport\u001b[0m \u001b[0mCredential\u001b[0m\u001b[0;34m\u001b[0m\u001b[0m\n\u001b[0m\u001b[1;32m     38\u001b[0m \u001b[0;32mfrom\u001b[0m \u001b[0;34m.\u001b[0m\u001b[0;34m.\u001b[0m\u001b[0;34m.\u001b[0m\u001b[0msfa\u001b[0m\u001b[0;34m.\u001b[0m\u001b[0mtrust\u001b[0m\u001b[0;34m.\u001b[0m\u001b[0mabac_credential\u001b[0m \u001b[0;32mimport\u001b[0m \u001b[0mABACCredential\u001b[0m\u001b[0;34m\u001b[0m\u001b[0m\n\u001b[1;32m     39\u001b[0m \u001b[0;32mfrom\u001b[0m \u001b[0;34m.\u001b[0m\u001b[0;34m.\u001b[0m\u001b[0;34m.\u001b[0m\u001b[0msfa\u001b[0m\u001b[0;34m.\u001b[0m\u001b[0mtrust\u001b[0m\u001b[0;34m.\u001b[0m\u001b[0mcredential_factory\u001b[0m \u001b[0;32mimport\u001b[0m \u001b[0mCredentialFactory\u001b[0m\u001b[0;34m\u001b[0m\u001b[0m\n",
      "\u001b[0;32m/home/lngo/.local/lib/python2.7/site-packages/geni_lib-0.9-py2.7.egg/geni/gcf/sfa/trust/credential.py\u001b[0m in \u001b[0;36m<module>\u001b[0;34m()\u001b[0m\n\u001b[1;32m     49\u001b[0m \u001b[0;32mfrom\u001b[0m \u001b[0;34m.\u001b[0m\u001b[0;34m.\u001b[0m\u001b[0mutil\u001b[0m\u001b[0;34m.\u001b[0m\u001b[0msfatime\u001b[0m \u001b[0;32mimport\u001b[0m \u001b[0mutcparse\u001b[0m\u001b[0;34m\u001b[0m\u001b[0m\n\u001b[1;32m     50\u001b[0m \u001b[0;32mfrom\u001b[0m \u001b[0;34m.\u001b[0m\u001b[0;34m.\u001b[0m\u001b[0mutil\u001b[0m\u001b[0;34m.\u001b[0m\u001b[0mxrn\u001b[0m \u001b[0;32mimport\u001b[0m \u001b[0murn_to_hrn\u001b[0m\u001b[0;34m,\u001b[0m \u001b[0mhrn_authfor_hrn\u001b[0m\u001b[0;34m\u001b[0m\u001b[0m\n\u001b[0;32m---> 51\u001b[0;31m \u001b[0;32mfrom\u001b[0m \u001b[0;34m.\u001b[0m\u001b[0mcredential_legacy\u001b[0m \u001b[0;32mimport\u001b[0m \u001b[0mCredentialLegacy\u001b[0m\u001b[0;34m\u001b[0m\u001b[0m\n\u001b[0m\u001b[1;32m     52\u001b[0m \u001b[0;32mfrom\u001b[0m \u001b[0;34m.\u001b[0m\u001b[0mrights\u001b[0m \u001b[0;32mimport\u001b[0m \u001b[0mRight\u001b[0m\u001b[0;34m,\u001b[0m \u001b[0mRights\u001b[0m\u001b[0;34m,\u001b[0m \u001b[0mdetermine_rights\u001b[0m\u001b[0;34m\u001b[0m\u001b[0m\n\u001b[1;32m     53\u001b[0m \u001b[0;32mfrom\u001b[0m \u001b[0;34m.\u001b[0m\u001b[0mgid\u001b[0m \u001b[0;32mimport\u001b[0m \u001b[0mGID\u001b[0m\u001b[0;34m\u001b[0m\u001b[0m\n",
      "\u001b[0;32m/home/lngo/.local/lib/python2.7/site-packages/geni_lib-0.9-py2.7.egg/geni/gcf/sfa/trust/credential_legacy.py\u001b[0m in \u001b[0;36m<module>\u001b[0;34m()\u001b[0m\n\u001b[1;32m     33\u001b[0m \u001b[0;34m\u001b[0m\u001b[0m\n\u001b[1;32m     34\u001b[0m \u001b[0;32mfrom\u001b[0m \u001b[0;34m.\u001b[0m\u001b[0;34m.\u001b[0m\u001b[0mutil\u001b[0m\u001b[0;34m.\u001b[0m\u001b[0mfaults\u001b[0m \u001b[0;32mimport\u001b[0m \u001b[0mMissingDelegateBit\u001b[0m\u001b[0;34m,\u001b[0m \u001b[0mChildRightsNotSubsetOfParent\u001b[0m\u001b[0;34m\u001b[0m\u001b[0m\n\u001b[0;32m---> 35\u001b[0;31m \u001b[0;32mfrom\u001b[0m \u001b[0;34m.\u001b[0m\u001b[0mcertificate\u001b[0m \u001b[0;32mimport\u001b[0m \u001b[0mCertificate\u001b[0m\u001b[0;34m\u001b[0m\u001b[0m\n\u001b[0m\u001b[1;32m     36\u001b[0m \u001b[0;32mfrom\u001b[0m \u001b[0;34m.\u001b[0m\u001b[0mgid\u001b[0m \u001b[0;32mimport\u001b[0m \u001b[0mGID\u001b[0m\u001b[0;34m\u001b[0m\u001b[0m\n\u001b[1;32m     37\u001b[0m \u001b[0;34m\u001b[0m\u001b[0m\n",
      "\u001b[0;32m/home/lngo/.local/lib/python2.7/site-packages/geni_lib-0.9-py2.7.egg/geni/gcf/sfa/trust/certificate.py\u001b[0m in \u001b[0;36m<module>\u001b[0;34m()\u001b[0m\n\u001b[1;32m     45\u001b[0m \u001b[0;34m\u001b[0m\u001b[0m\n\u001b[1;32m     46\u001b[0m \u001b[0;32mfrom\u001b[0m \u001b[0mOpenSSL\u001b[0m \u001b[0;32mimport\u001b[0m \u001b[0mcrypto\u001b[0m\u001b[0;34m\u001b[0m\u001b[0m\n\u001b[0;32m---> 47\u001b[0;31m \u001b[0;32mimport\u001b[0m \u001b[0mM2Crypto\u001b[0m\u001b[0;34m\u001b[0m\u001b[0m\n\u001b[0m\u001b[1;32m     48\u001b[0m \u001b[0;32mfrom\u001b[0m \u001b[0mM2Crypto\u001b[0m \u001b[0;32mimport\u001b[0m \u001b[0mX509\u001b[0m\u001b[0;34m\u001b[0m\u001b[0m\n\u001b[1;32m     49\u001b[0m \u001b[0;34m\u001b[0m\u001b[0m\n",
      "\u001b[0;32m/home/lngo/.local/lib/python2.7/site-packages/M2Crypto/__init__.py\u001b[0m in \u001b[0;36m<module>\u001b[0;34m()\u001b[0m\n\u001b[1;32m     24\u001b[0m \u001b[0mversion_info\u001b[0m \u001b[0;34m=\u001b[0m \u001b[0mStrictVersion\u001b[0m\u001b[0;34m(\u001b[0m\u001b[0m__version__\u001b[0m\u001b[0;34m)\u001b[0m\u001b[0;34m.\u001b[0m\u001b[0mversion\u001b[0m\u001b[0;34m\u001b[0m\u001b[0m\n\u001b[1;32m     25\u001b[0m \u001b[0;34m\u001b[0m\u001b[0m\n\u001b[0;32m---> 26\u001b[0;31m from M2Crypto import (ASN1, AuthCookie, BIO, BN, DH, DSA, EVP, Engine, Err,\n\u001b[0m\u001b[1;32m     27\u001b[0m                       \u001b[0mPGP\u001b[0m\u001b[0;34m,\u001b[0m \u001b[0mRC4\u001b[0m\u001b[0;34m,\u001b[0m \u001b[0mRSA\u001b[0m\u001b[0;34m,\u001b[0m \u001b[0mRand\u001b[0m\u001b[0;34m,\u001b[0m \u001b[0mSMIME\u001b[0m\u001b[0;34m,\u001b[0m \u001b[0mSSL\u001b[0m\u001b[0;34m,\u001b[0m \u001b[0mX509\u001b[0m\u001b[0;34m,\u001b[0m \u001b[0m_m2crypto\u001b[0m\u001b[0;34m,\u001b[0m\u001b[0;34m\u001b[0m\u001b[0m\n\u001b[1;32m     28\u001b[0m                       \u001b[0mftpslib\u001b[0m\u001b[0;34m,\u001b[0m \u001b[0mhttpslib\u001b[0m\u001b[0;34m,\u001b[0m \u001b[0mm2\u001b[0m\u001b[0;34m,\u001b[0m \u001b[0mm2urllib\u001b[0m\u001b[0;34m,\u001b[0m \u001b[0mm2xmlrpclib\u001b[0m\u001b[0;34m,\u001b[0m\u001b[0;34m\u001b[0m\u001b[0m\n",
      "\u001b[0;32m/home/lngo/.local/lib/python2.7/site-packages/M2Crypto/ASN1.py\u001b[0m in \u001b[0;36m<module>\u001b[0;34m()\u001b[0m\n\u001b[1;32m     13\u001b[0m \u001b[0;32mimport\u001b[0m \u001b[0mtime\u001b[0m\u001b[0;34m\u001b[0m\u001b[0m\n\u001b[1;32m     14\u001b[0m \u001b[0;34m\u001b[0m\u001b[0m\n\u001b[0;32m---> 15\u001b[0;31m \u001b[0;32mfrom\u001b[0m \u001b[0mM2Crypto\u001b[0m \u001b[0;32mimport\u001b[0m \u001b[0mBIO\u001b[0m\u001b[0;34m,\u001b[0m \u001b[0mm2\u001b[0m\u001b[0;34m,\u001b[0m \u001b[0mutil\u001b[0m\u001b[0;34m\u001b[0m\u001b[0m\n\u001b[0m\u001b[1;32m     16\u001b[0m \u001b[0;32mif\u001b[0m \u001b[0mutil\u001b[0m\u001b[0;34m.\u001b[0m\u001b[0mpy27plus\u001b[0m\u001b[0;34m:\u001b[0m\u001b[0;34m\u001b[0m\u001b[0m\n\u001b[1;32m     17\u001b[0m     \u001b[0;32mfrom\u001b[0m \u001b[0mtyping\u001b[0m \u001b[0;32mimport\u001b[0m \u001b[0mAny\u001b[0m\u001b[0;34m,\u001b[0m \u001b[0mCallable\u001b[0m\u001b[0;34m,\u001b[0m \u001b[0mOptional\u001b[0m\u001b[0;34m,\u001b[0m \u001b[0mTuple\u001b[0m  \u001b[0;31m# noqa\u001b[0m\u001b[0;34m\u001b[0m\u001b[0m\n",
      "\u001b[0;32m/home/lngo/.local/lib/python2.7/site-packages/M2Crypto/BIO.py\u001b[0m in \u001b[0;36m<module>\u001b[0;34m()\u001b[0m\n\u001b[1;32m      8\u001b[0m \u001b[0;32mimport\u001b[0m \u001b[0mio\u001b[0m  \u001b[0;31m# noqa\u001b[0m\u001b[0;34m\u001b[0m\u001b[0m\n\u001b[1;32m      9\u001b[0m \u001b[0;34m\u001b[0m\u001b[0m\n\u001b[0;32m---> 10\u001b[0;31m \u001b[0;32mfrom\u001b[0m \u001b[0mM2Crypto\u001b[0m \u001b[0;32mimport\u001b[0m \u001b[0mm2\u001b[0m\u001b[0;34m,\u001b[0m \u001b[0mutil\u001b[0m\u001b[0;34m\u001b[0m\u001b[0m\n\u001b[0m\u001b[1;32m     11\u001b[0m \u001b[0;32mif\u001b[0m \u001b[0mutil\u001b[0m\u001b[0;34m.\u001b[0m\u001b[0mpy27plus\u001b[0m\u001b[0;34m:\u001b[0m\u001b[0;34m\u001b[0m\u001b[0m\n\u001b[1;32m     12\u001b[0m     \u001b[0;32mfrom\u001b[0m \u001b[0mtyping\u001b[0m \u001b[0;32mimport\u001b[0m \u001b[0mAnyStr\u001b[0m\u001b[0;34m,\u001b[0m \u001b[0mCallable\u001b[0m\u001b[0;34m,\u001b[0m \u001b[0mIterable\u001b[0m\u001b[0;34m,\u001b[0m \u001b[0mOptional\u001b[0m\u001b[0;34m,\u001b[0m \u001b[0mUnion\u001b[0m  \u001b[0;31m# noqa\u001b[0m\u001b[0;34m\u001b[0m\u001b[0m\n",
      "\u001b[0;32m/home/lngo/.local/lib/python2.7/site-packages/M2Crypto/m2.py\u001b[0m in \u001b[0;36m<module>\u001b[0;34m()\u001b[0m\n\u001b[1;32m     28\u001b[0m \"\"\"\n\u001b[1;32m     29\u001b[0m \u001b[0;34m\u001b[0m\u001b[0m\n\u001b[0;32m---> 30\u001b[0;31m \u001b[0;32mfrom\u001b[0m \u001b[0mM2Crypto\u001b[0m\u001b[0;34m.\u001b[0m\u001b[0m_m2crypto\u001b[0m \u001b[0;32mimport\u001b[0m \u001b[0;34m*\u001b[0m\u001b[0;34m\u001b[0m\u001b[0m\n\u001b[0m\u001b[1;32m     31\u001b[0m \u001b[0mlib_init\u001b[0m\u001b[0;34m(\u001b[0m\u001b[0;34m)\u001b[0m\u001b[0;34m\u001b[0m\u001b[0m\n",
      "\u001b[0;32m/home/lngo/.local/lib/python2.7/site-packages/M2Crypto/_m2crypto.py\u001b[0m in \u001b[0;36m<module>\u001b[0;34m()\u001b[0m\n\u001b[1;32m     24\u001b[0m                 \u001b[0mfp\u001b[0m\u001b[0;34m.\u001b[0m\u001b[0mclose\u001b[0m\u001b[0;34m(\u001b[0m\u001b[0;34m)\u001b[0m\u001b[0;34m\u001b[0m\u001b[0m\n\u001b[1;32m     25\u001b[0m             \u001b[0;32mreturn\u001b[0m \u001b[0m_mod\u001b[0m\u001b[0;34m\u001b[0m\u001b[0m\n\u001b[0;32m---> 26\u001b[0;31m     \u001b[0m__m2crypto\u001b[0m \u001b[0;34m=\u001b[0m \u001b[0mswig_import_helper\u001b[0m\u001b[0;34m(\u001b[0m\u001b[0;34m)\u001b[0m\u001b[0;34m\u001b[0m\u001b[0m\n\u001b[0m\u001b[1;32m     27\u001b[0m     \u001b[0;32mdel\u001b[0m \u001b[0mswig_import_helper\u001b[0m\u001b[0;34m\u001b[0m\u001b[0m\n\u001b[1;32m     28\u001b[0m \u001b[0;32melse\u001b[0m\u001b[0;34m:\u001b[0m\u001b[0;34m\u001b[0m\u001b[0m\n",
      "\u001b[0;32m/home/lngo/.local/lib/python2.7/site-packages/M2Crypto/_m2crypto.py\u001b[0m in \u001b[0;36mswig_import_helper\u001b[0;34m()\u001b[0m\n\u001b[1;32m     20\u001b[0m         \u001b[0;32mif\u001b[0m \u001b[0mfp\u001b[0m \u001b[0;32mis\u001b[0m \u001b[0;32mnot\u001b[0m \u001b[0mNone\u001b[0m\u001b[0;34m:\u001b[0m\u001b[0;34m\u001b[0m\u001b[0m\n\u001b[1;32m     21\u001b[0m             \u001b[0;32mtry\u001b[0m\u001b[0;34m:\u001b[0m\u001b[0;34m\u001b[0m\u001b[0m\n\u001b[0;32m---> 22\u001b[0;31m                 \u001b[0m_mod\u001b[0m \u001b[0;34m=\u001b[0m \u001b[0mimp\u001b[0m\u001b[0;34m.\u001b[0m\u001b[0mload_module\u001b[0m\u001b[0;34m(\u001b[0m\u001b[0;34m'__m2crypto'\u001b[0m\u001b[0;34m,\u001b[0m \u001b[0mfp\u001b[0m\u001b[0;34m,\u001b[0m \u001b[0mpathname\u001b[0m\u001b[0;34m,\u001b[0m \u001b[0mdescription\u001b[0m\u001b[0;34m)\u001b[0m\u001b[0;34m\u001b[0m\u001b[0m\n\u001b[0m\u001b[1;32m     23\u001b[0m             \u001b[0;32mfinally\u001b[0m\u001b[0;34m:\u001b[0m\u001b[0;34m\u001b[0m\u001b[0m\n\u001b[1;32m     24\u001b[0m                 \u001b[0mfp\u001b[0m\u001b[0;34m.\u001b[0m\u001b[0mclose\u001b[0m\u001b[0;34m(\u001b[0m\u001b[0;34m)\u001b[0m\u001b[0;34m\u001b[0m\u001b[0m\n",
      "\u001b[0;31mImportError\u001b[0m: /lib64/libc.so.6: version `GLIBC_2.14' not found (required by /home/lngo/.local/lib/python2.7/site-packages/M2Crypto/__m2crypto.so)"
     ]
    }
   ],
   "source": [
    "from geni.aggregate import FrameworkRegistry\n",
    "from geni.aggregate.context import Context\n",
    "from geni.aggregate.user import User\n",
    "\n",
    "def buildContext ():\n",
    "  framework = FrameworkRegistry.get(\"portal\")()\n",
    "  framework.cert = \"/home/lngo/.cert/cloudlab.pem\"\n",
    "  framework.key = \"/home/lngo/.cert/cloudlab.pem\"\n",
    "\n",
    "  user = User()\n",
    "  user.name = \"lngo\"\n",
    "  user.urn = \"urn:publicid:IDN+ch.geni.net+user+lngo\"\n",
    "  user.addKey(\"/home/lngo/.ssh/id_rsa.pub\")\n",
    "\n",
    "  context = Context()\n",
    "  context.addUser(user, default = True)\n",
    "  context.cf = framework\n",
    "  context.project = \"BDSLab\"\n",
    "\n",
    "  return context\n",
    "\n",
    "context = buildContext()\n",
    "import geni.aggregate.instageni as IG\n",
    "import pprint\n",
    "pprint.pprint(IG.GPO.getversion(context))"
   ]
  },
  {
   "cell_type": "code",
   "execution_count": 11,
   "metadata": {
    "collapsed": false
   },
   "outputs": [
    {
     "name": "stdout",
     "output_type": "stream",
     "text": [
      "/bin/sh: line 0: unset: `spark-submit': not a valid identifier\n",
      "/bin/sh: line 0: unset: `spark-sql': not a valid identifier\n",
      "/bin/sh: line 0: unset: `spark-shell': not a valid identifier\n",
      "Traceback (most recent call last):\n",
      "  File \"cloudlab-geni-examples/singleXenVM.py\", line 16, in <module>\n",
      "    node = request.XenVM(\"node\")\n",
      "AttributeError: 'Request' object has no attribute 'XenVM'\n",
      "Exception TypeError: TypeError(\"'NoneType' object is not callable\",) in <bound method TempfileManager.__del__ of <geni.tempfile.TempfileManager object at 0x2b5035ceba10>> ignored\n"
     ]
    }
   ],
   "source": [
    "!module purge; module add anaconda/4.3.0; python cloudlab-geni-examples/singleXenVM.py"
   ]
  },
  {
   "cell_type": "code",
   "execution_count": 2,
   "metadata": {
    "collapsed": false
   },
   "outputs": [],
   "source": [
    "import geni.portal as portal\n",
    "import geni.rspec.pg as rspec\n",
    "\n",
    "request = rspec.Request()\n",
    "node = rspec.RawPC"
   ]
  },
  {
   "cell_type": "code",
   "execution_count": 3,
   "metadata": {
    "collapsed": false
   },
   "outputs": [
    {
     "ename": "AttributeError",
     "evalue": "'Request' object has no attribute 'XenVM'",
     "output_type": "error",
     "traceback": [
      "\u001b[0;31m---------------------------------------------------------------------------\u001b[0m",
      "\u001b[0;31mAttributeError\u001b[0m                            Traceback (most recent call last)",
      "\u001b[0;32m<ipython-input-3-2c72907976e2>\u001b[0m in \u001b[0;36m<module>\u001b[0;34m()\u001b[0m\n\u001b[1;32m      3\u001b[0m \u001b[0;34m\u001b[0m\u001b[0m\n\u001b[1;32m      4\u001b[0m \u001b[0mrequest\u001b[0m \u001b[0;34m=\u001b[0m \u001b[0mrspec\u001b[0m\u001b[0;34m.\u001b[0m\u001b[0mRequest\u001b[0m\u001b[0;34m(\u001b[0m\u001b[0;34m)\u001b[0m\u001b[0;34m\u001b[0m\u001b[0m\n\u001b[0;32m----> 5\u001b[0;31m \u001b[0mnode1\u001b[0m \u001b[0;34m=\u001b[0m \u001b[0mrequest\u001b[0m\u001b[0;34m.\u001b[0m\u001b[0mXenVM\u001b[0m\u001b[0;34m(\u001b[0m\u001b[0;34m\"node1\"\u001b[0m\u001b[0;34m)\u001b[0m\u001b[0;34m\u001b[0m\u001b[0m\n\u001b[0m\u001b[1;32m      6\u001b[0m \u001b[0miface1\u001b[0m \u001b[0;34m=\u001b[0m \u001b[0mnode1\u001b[0m\u001b[0;34m.\u001b[0m\u001b[0maddInterface\u001b[0m\u001b[0;34m(\u001b[0m\u001b[0;34m\"if1\"\u001b[0m\u001b[0;34m)\u001b[0m\u001b[0;34m\u001b[0m\u001b[0m\n\u001b[1;32m      7\u001b[0m \u001b[0;34m\u001b[0m\u001b[0m\n",
      "\u001b[0;31mAttributeError\u001b[0m: 'Request' object has no attribute 'XenVM'"
     ]
    }
   ],
   "source": [
    "import geni.portal as portal\n",
    "import geni.rspec.pg as rspec\n",
    "\n",
    "request = rspec.Request()\n",
    "node1 = request.XenVM(\"node1\")\n",
    "iface1 = node1.addInterface(\"if1\")\n",
    "\n",
    "# Specify the component id and the IPv4 address\n",
    "iface1.component_id = \"eth1\"\n",
    "iface1.addAddress(rspec.IPv4Address(\"192.168.1.1\", \"255.255.255.0\"))\n",
    "\n",
    "node2 = request.XenVM(\"node2\")\n",
    "iface2 = node2.addInterface(\"if2\")\n",
    "\n",
    "# Specify the component id and the IPv4 address\n",
    "iface2.component_id = \"eth2\"\n",
    "iface2.addAddress(rspec.IPv4Address(\"192.168.1.2\", \"255.255.255.0\"))\n",
    "\n",
    "link = request.LAN(\"lan\")\n",
    "\n",
    "link.addInterface(iface1)\n",
    "link.addInterface(iface2)\n",
    "\n",
    "portal.context.printRequestRSpec()"
   ]
  },
  {
   "cell_type": "code",
   "execution_count": null,
   "metadata": {
    "collapsed": false
   },
   "outputs": [],
   "source": [
    "\"\"\"An example of constructing a profile with a single Xen VM.\n",
    "\n",
    "Instructions:\n",
    "Wait for the profile instance to start, and then log in to the VM via the\n",
    "ssh port specified below.  (Note that in this case, you will need to access\n",
    "the VM through a high port on the physical host, since we have not requested\n",
    "a public IP address for the VM itself.)\n",
    "\"\"\"\n",
    "\n",
    "import geni.portal as portal\n",
    "import geni.rspec.pg as rspec\n",
    "\n",
    "# Create a Request object to start building the RSpec.\n",
    "request = portal.context.makeRequestRSpec()\n",
    " \n",
    "# Create a XenVM\n",
    "node = request.XenVM(\"node\")\n",
    "\n",
    "# Print the RSpec to the enclosing page.\n",
    "portal.context.printRequestRSpec()"
   ]
  },
  {
   "cell_type": "code",
   "execution_count": 9,
   "metadata": {
    "collapsed": false
   },
   "outputs": [
    {
     "name": "stdout",
     "output_type": "stream",
     "text": [
      "Overwriting hpccsystems.py\n"
     ]
    }
   ],
   "source": [
    "%%writefile hpccsystems.py\n",
    "import geni.portal as portal\n",
    "import geni.rspec.pg as rspec\n",
    "\n",
    "# Create a Request object to start building the RSpec.\n",
    "request = portal.context.makeRequestRSpec()\n",
    " \n",
    "# Create a link with type LAN\n",
    "link = request.LAN(\"lan\")\n",
    "\n",
    "# Generate the nodes\n",
    "for i in range(4):\n",
    "    node = request.RawPC(\"node\" + str(i))\n",
    "    node.disk_image = \"urn:publicid:IDN+emulab.net+image+emulab-ops:UBUNTU14-64-STD\"\n",
    "    iface = node.addInterface(\"if\" + str(i))\n",
    "    iface.component_id = \"eth1\"\n",
    "    iface.addAddress(rspec.IPv4Address(\"192.168.1.\" + str(i + 1), \"255.255.255.0\"))\n",
    "    link.addInterface(iface)\n",
    "    \n",
    "    node.addService(rspec.Execute(shell=\"bash\",\n",
    "                                  command=\"sudo adduser --ingroup admin --disabled-password hpcc\"))\n",
    "    node.addService(rspec.Execute(shell=\"bash\",\n",
    "                                  command=\"sudo adduser hpcc sudo\"))\n",
    "    node.addService(rspec.Execute(shell=\"bash\",\n",
    "                                  command=\"sudo apt-get update\"))\n",
    "    node.addService(rspec.Execute(shell=\"bash\",\n",
    "                                  command=\"sudo wget http://cdn.hpccsystems.com/releases/CE-Candidate-5.2.2/bin/platform/hpccsystems-platform-community_5.2.2-1trusty_amd64.deb\"))\n",
    "    node.addService(rspec.Execute(shell=\"bash\",\n",
    "                                  command=\"sudo dpkg -i hpccsystems-platform-community_5.2.2-1trusty_amd64.deb\"))\n",
    "    node.addService(rspec.Execute(shell=\"bash\",\n",
    "                                  command=\"sudo apt-get -y -f install\"))\n",
    "\n",
    "# Print the RSpec to the enclosing page.\n",
    "portal.context.printRequestRSpec()"
   ]
  },
  {
   "cell_type": "code",
   "execution_count": 10,
   "metadata": {
    "collapsed": false
   },
   "outputs": [
    {
     "name": "stdout",
     "output_type": "stream",
     "text": [
      "<rspec xmlns:client=\"http://www.protogeni.net/resources/rspec/ext/client/1\" xmlns:xsi=\"http://www.w3.org/2001/XMLSchema-instance\" xmlns=\"http://www.geni.net/resources/rspec/3\" xsi:schemaLocation=\"http://www.geni.net/resources/rspec/3 http://www.geni.net/resources/rspec/3/request.xsd\" type=\"request\">\r\n",
      "  <link client_id=\"lan\">\r\n",
      "    <interface_ref client_id=\"node0:if0\"/>\r\n",
      "    <interface_ref client_id=\"node1:if1\"/>\r\n",
      "    <interface_ref client_id=\"node2:if2\"/>\r\n",
      "    <interface_ref client_id=\"node3:if3\"/>\r\n",
      "    <link_type name=\"lan\"/>\r\n",
      "  </link>\r\n",
      "  <node client_id=\"node0\" exclusive=\"true\">\r\n",
      "    <sliver_type name=\"raw\">\r\n",
      "      <disk_image name=\"urn:publicid:IDN+emulab.net+image+emulab-ops:UBUNTU14-64-STD\"/>\r\n",
      "    </sliver_type>\r\n",
      "    <interface client_id=\"node0:if0\" component_id=\"eth1\">\r\n",
      "      <ip address=\"192.168.1.1\" netmask=\"255.255.255.0\" type=\"ipv4\"/>\r\n",
      "    </interface>\r\n",
      "    <services>\r\n",
      "      <execute shell=\"bash\" command=\"sudo adduser --ingroup admin --disabled-password hpcc\"/>\r\n",
      "      <execute shell=\"bash\" command=\"sudo apt-get update\"/>\r\n",
      "      <execute shell=\"bash\" command=\"sudo wget http://cdn.hpccsystems.com/releases/CE-Candidate-5.2.2/bin/platform/hpccsystems-platform-community_5.2.2-1trusty_amd64.deb\"/>\r\n",
      "      <execute shell=\"bash\" command=\"sudo dpkg -i hpccsystems-platform-community_5.2.2-1trusty_amd64.deb\"/>\r\n",
      "      <execute shell=\"bash\" command=\"sudo apt-get -y -f install\"/>\r\n",
      "    </services>\r\n",
      "  </node>\r\n",
      "  <node client_id=\"node1\" exclusive=\"true\">\r\n",
      "    <sliver_type name=\"raw\">\r\n",
      "      <disk_image name=\"urn:publicid:IDN+emulab.net+image+emulab-ops:UBUNTU14-64-STD\"/>\r\n",
      "    </sliver_type>\r\n",
      "    <interface client_id=\"node1:if1\" component_id=\"eth1\">\r\n",
      "      <ip address=\"192.168.1.2\" netmask=\"255.255.255.0\" type=\"ipv4\"/>\r\n",
      "    </interface>\r\n",
      "    <services>\r\n",
      "      <execute shell=\"bash\" command=\"sudo adduser --ingroup admin --disabled-password hpcc\"/>\r\n",
      "      <execute shell=\"bash\" command=\"sudo apt-get update\"/>\r\n",
      "      <execute shell=\"bash\" command=\"sudo wget http://cdn.hpccsystems.com/releases/CE-Candidate-5.2.2/bin/platform/hpccsystems-platform-community_5.2.2-1trusty_amd64.deb\"/>\r\n",
      "      <execute shell=\"bash\" command=\"sudo dpkg -i hpccsystems-platform-community_5.2.2-1trusty_amd64.deb\"/>\r\n",
      "      <execute shell=\"bash\" command=\"sudo apt-get -y -f install\"/>\r\n",
      "    </services>\r\n",
      "  </node>\r\n",
      "  <node client_id=\"node2\" exclusive=\"true\">\r\n",
      "    <sliver_type name=\"raw\">\r\n",
      "      <disk_image name=\"urn:publicid:IDN+emulab.net+image+emulab-ops:UBUNTU14-64-STD\"/>\r\n",
      "    </sliver_type>\r\n",
      "    <interface client_id=\"node2:if2\" component_id=\"eth1\">\r\n",
      "      <ip address=\"192.168.1.3\" netmask=\"255.255.255.0\" type=\"ipv4\"/>\r\n",
      "    </interface>\r\n",
      "    <services>\r\n",
      "      <execute shell=\"bash\" command=\"sudo adduser --ingroup admin --disabled-password hpcc\"/>\r\n",
      "      <execute shell=\"bash\" command=\"sudo apt-get update\"/>\r\n",
      "      <execute shell=\"bash\" command=\"sudo wget http://cdn.hpccsystems.com/releases/CE-Candidate-5.2.2/bin/platform/hpccsystems-platform-community_5.2.2-1trusty_amd64.deb\"/>\r\n",
      "      <execute shell=\"bash\" command=\"sudo dpkg -i hpccsystems-platform-community_5.2.2-1trusty_amd64.deb\"/>\r\n",
      "      <execute shell=\"bash\" command=\"sudo apt-get -y -f install\"/>\r\n",
      "    </services>\r\n",
      "  </node>\r\n",
      "  <node client_id=\"node3\" exclusive=\"true\">\r\n",
      "    <sliver_type name=\"raw\">\r\n",
      "      <disk_image name=\"urn:publicid:IDN+emulab.net+image+emulab-ops:UBUNTU14-64-STD\"/>\r\n",
      "    </sliver_type>\r\n",
      "    <interface client_id=\"node3:if3\" component_id=\"eth1\">\r\n",
      "      <ip address=\"192.168.1.4\" netmask=\"255.255.255.0\" type=\"ipv4\"/>\r\n",
      "    </interface>\r\n",
      "    <services>\r\n",
      "      <execute shell=\"bash\" command=\"sudo adduser --ingroup admin --disabled-password hpcc\"/>\r\n",
      "      <execute shell=\"bash\" command=\"sudo apt-get update\"/>\r\n",
      "      <execute shell=\"bash\" command=\"sudo wget http://cdn.hpccsystems.com/releases/CE-Candidate-5.2.2/bin/platform/hpccsystems-platform-community_5.2.2-1trusty_amd64.deb\"/>\r\n",
      "      <execute shell=\"bash\" command=\"sudo dpkg -i hpccsystems-platform-community_5.2.2-1trusty_amd64.deb\"/>\r\n",
      "      <execute shell=\"bash\" command=\"sudo apt-get -y -f install\"/>\r\n",
      "    </services>\r\n",
      "  </node>\r\n",
      "</rspec>\r\n"
     ]
    }
   ],
   "source": [
    "!module load anaconda/4.3.0; python hpccsystems.py"
   ]
  },
  {
   "cell_type": "code",
   "execution_count": null,
   "metadata": {
    "collapsed": true
   },
   "outputs": [],
   "source": []
  }
 ],
 "metadata": {
  "kernelspec": {
   "display_name": "Python 2 (Anaconda)",
   "language": "python",
   "name": "anaconda_py2"
  },
  "language_info": {
   "codemirror_mode": {
    "name": "ipython",
    "version": 2
   },
   "file_extension": ".py",
   "mimetype": "text/x-python",
   "name": "python",
   "nbconvert_exporter": "python",
   "pygments_lexer": "ipython2",
   "version": "2.7.12"
  }
 },
 "nbformat": 4,
 "nbformat_minor": 1
}
