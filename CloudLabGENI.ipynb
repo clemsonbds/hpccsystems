{
 "cells": [
  {
   "cell_type": "code",
   "execution_count": null,
   "metadata": {
    "collapsed": true
   },
   "outputs": [],
   "source": [
    "#pip install --user m2crypto"
   ]
  },
  {
   "cell_type": "code",
   "execution_count": 32,
   "metadata": {
    "collapsed": false
   },
   "outputs": [
    {
     "ename": "Error",
     "evalue": "[('PEM routines', 'PEM_def_callback', 'problems getting password'), ('PEM routines', 'PEM_do_header', 'bad password read'), ('SSL routines', 'SSL_CTX_use_PrivateKey_file', 'PEM lib')]",
     "output_type": "error",
     "traceback": [
      "\u001b[0;31m---------------------------------------------------------------------------\u001b[0m",
      "\u001b[0;31mError\u001b[0m                                     Traceback (most recent call last)",
      "\u001b[0;32m<ipython-input-32-fd5185b22ae2>\u001b[0m in \u001b[0;36m<module>\u001b[0;34m()\u001b[0m\n\u001b[1;32m     23\u001b[0m \u001b[0;32mimport\u001b[0m \u001b[0mgeni\u001b[0m\u001b[0;34m.\u001b[0m\u001b[0maggregate\u001b[0m\u001b[0;34m.\u001b[0m\u001b[0minstageni\u001b[0m \u001b[0;32mas\u001b[0m \u001b[0mIG\u001b[0m\u001b[0;34m\u001b[0m\u001b[0m\n\u001b[1;32m     24\u001b[0m \u001b[0;32mimport\u001b[0m \u001b[0mpprint\u001b[0m\u001b[0;34m\u001b[0m\u001b[0m\n\u001b[0;32m---> 25\u001b[0;31m \u001b[0mpprint\u001b[0m\u001b[0;34m.\u001b[0m\u001b[0mpprint\u001b[0m\u001b[0;34m(\u001b[0m\u001b[0mIG\u001b[0m\u001b[0;34m.\u001b[0m\u001b[0mGPO\u001b[0m\u001b[0;34m.\u001b[0m\u001b[0mgetversion\u001b[0m\u001b[0;34m(\u001b[0m\u001b[0mcontext\u001b[0m\u001b[0;34m)\u001b[0m\u001b[0;34m)\u001b[0m\u001b[0;34m\u001b[0m\u001b[0m\n\u001b[0m",
      "\u001b[0;32m/home/lngo/.local/lib/python2.7/site-packages/geni_lib-0.9.1-py2.7.egg/geni/aggregate/core.pyc\u001b[0m in \u001b[0;36mgetversion\u001b[0;34m(self, context)\u001b[0m\n\u001b[1;32m     93\u001b[0m \u001b[0;34m\u001b[0m\u001b[0m\n\u001b[1;32m     94\u001b[0m   \u001b[0;32mdef\u001b[0m \u001b[0mgetversion\u001b[0m \u001b[0;34m(\u001b[0m\u001b[0mself\u001b[0m\u001b[0;34m,\u001b[0m \u001b[0mcontext\u001b[0m\u001b[0;34m)\u001b[0m\u001b[0;34m:\u001b[0m\u001b[0;34m\u001b[0m\u001b[0m\n\u001b[0;32m---> 95\u001b[0;31m     \u001b[0;32mreturn\u001b[0m \u001b[0mself\u001b[0m\u001b[0;34m.\u001b[0m\u001b[0mapi\u001b[0m\u001b[0;34m.\u001b[0m\u001b[0mgetversion\u001b[0m\u001b[0;34m(\u001b[0m\u001b[0mcontext\u001b[0m\u001b[0;34m,\u001b[0m \u001b[0mself\u001b[0m\u001b[0;34m.\u001b[0m\u001b[0murl\u001b[0m\u001b[0;34m)\u001b[0m\u001b[0;34m\u001b[0m\u001b[0m\n\u001b[0m\u001b[1;32m     96\u001b[0m \u001b[0;34m\u001b[0m\u001b[0m\n\u001b[1;32m     97\u001b[0m \u001b[0;34m\u001b[0m\u001b[0m\n",
      "\u001b[0;32m/home/lngo/.local/lib/python2.7/site-packages/geni_lib-0.9.1-py2.7.egg/geni/aggregate/apis.pyc\u001b[0m in \u001b[0;36mgetversion\u001b[0;34m(context, url)\u001b[0m\n\u001b[1;32m    115\u001b[0m     \u001b[0;32mfrom\u001b[0m \u001b[0;34m.\u001b[0m\u001b[0;34m.\u001b[0m\u001b[0mminigcf\u001b[0m \u001b[0;32mimport\u001b[0m \u001b[0mamapi2\u001b[0m \u001b[0;32mas\u001b[0m \u001b[0mAM2\u001b[0m\u001b[0;34m\u001b[0m\u001b[0m\n\u001b[1;32m    116\u001b[0m \u001b[0;34m\u001b[0m\u001b[0m\n\u001b[0;32m--> 117\u001b[0;31m     \u001b[0mres\u001b[0m \u001b[0;34m=\u001b[0m \u001b[0mAM2\u001b[0m\u001b[0;34m.\u001b[0m\u001b[0mgetversion\u001b[0m\u001b[0;34m(\u001b[0m\u001b[0murl\u001b[0m\u001b[0;34m,\u001b[0m \u001b[0mFalse\u001b[0m\u001b[0;34m,\u001b[0m \u001b[0mcontext\u001b[0m\u001b[0;34m.\u001b[0m\u001b[0mcf\u001b[0m\u001b[0;34m.\u001b[0m\u001b[0mcert\u001b[0m\u001b[0;34m,\u001b[0m \u001b[0mcontext\u001b[0m\u001b[0;34m.\u001b[0m\u001b[0mcf\u001b[0m\u001b[0;34m.\u001b[0m\u001b[0mkey\u001b[0m\u001b[0;34m)\u001b[0m\u001b[0;34m\u001b[0m\u001b[0m\n\u001b[0m\u001b[1;32m    118\u001b[0m     \u001b[0;32mif\u001b[0m \u001b[0mres\u001b[0m\u001b[0;34m[\u001b[0m\u001b[0;34m\"code\"\u001b[0m\u001b[0;34m]\u001b[0m\u001b[0;34m[\u001b[0m\u001b[0;34m\"geni_code\"\u001b[0m\u001b[0;34m]\u001b[0m \u001b[0;34m==\u001b[0m \u001b[0;36m0\u001b[0m\u001b[0;34m:\u001b[0m\u001b[0;34m\u001b[0m\u001b[0m\n\u001b[1;32m    119\u001b[0m       \u001b[0;32mreturn\u001b[0m \u001b[0mres\u001b[0m\u001b[0;34m[\u001b[0m\u001b[0;34m\"value\"\u001b[0m\u001b[0;34m]\u001b[0m\u001b[0;34m\u001b[0m\u001b[0m\n",
      "\u001b[0;32m/home/lngo/.local/lib/python2.7/site-packages/geni_lib-0.9.1-py2.7.egg/geni/minigcf/amapi2.pyc\u001b[0m in \u001b[0;36mgetversion\u001b[0;34m(url, root_bundle, cert, key, options)\u001b[0m\n\u001b[1;32m     37\u001b[0m   \u001b[0ms\u001b[0m\u001b[0;34m.\u001b[0m\u001b[0mmount\u001b[0m\u001b[0;34m(\u001b[0m\u001b[0murl\u001b[0m\u001b[0;34m,\u001b[0m \u001b[0mTLS1HttpAdapter\u001b[0m\u001b[0;34m(\u001b[0m\u001b[0;34m)\u001b[0m\u001b[0;34m)\u001b[0m\u001b[0;34m\u001b[0m\u001b[0m\n\u001b[1;32m     38\u001b[0m   resp = s.post(url, req_data, cert=(cert, key), verify=root_bundle, headers = headers(),\n\u001b[0;32m---> 39\u001b[0;31m                 timeout = config.HTTP.TIMEOUT, allow_redirects = config.HTTP.ALLOW_REDIRECTS)\n\u001b[0m\u001b[1;32m     40\u001b[0m   \u001b[0;32mif\u001b[0m \u001b[0misinstance\u001b[0m\u001b[0;34m(\u001b[0m\u001b[0mconfig\u001b[0m\u001b[0;34m.\u001b[0m\u001b[0mHTTP\u001b[0m\u001b[0;34m.\u001b[0m\u001b[0mLOG_RAW_RESPONSES\u001b[0m\u001b[0;34m,\u001b[0m \u001b[0mtuple\u001b[0m\u001b[0;34m)\u001b[0m\u001b[0;34m:\u001b[0m\u001b[0;34m\u001b[0m\u001b[0m\n\u001b[1;32m     41\u001b[0m     \u001b[0mconfig\u001b[0m\u001b[0;34m.\u001b[0m\u001b[0mHTTP\u001b[0m\u001b[0;34m.\u001b[0m\u001b[0mLOG_RAW_RESPONSES\u001b[0m\u001b[0;34m[\u001b[0m\u001b[0;36m0\u001b[0m\u001b[0;34m]\u001b[0m\u001b[0;34m.\u001b[0m\u001b[0mlog\u001b[0m\u001b[0;34m(\u001b[0m\u001b[0mconfig\u001b[0m\u001b[0;34m.\u001b[0m\u001b[0mHTTP\u001b[0m\u001b[0;34m.\u001b[0m\u001b[0mLOG_RAW_RESPONSES\u001b[0m\u001b[0;34m[\u001b[0m\u001b[0;36m1\u001b[0m\u001b[0;34m]\u001b[0m\u001b[0;34m,\u001b[0m \u001b[0mresp\u001b[0m\u001b[0;34m.\u001b[0m\u001b[0mcontent\u001b[0m\u001b[0;34m)\u001b[0m\u001b[0;34m\u001b[0m\u001b[0m\n",
      "\u001b[0;32m/home/lngo/.local/lib/python2.7/site-packages/requests-2.13.0-py2.7.egg/requests/sessions.pyc\u001b[0m in \u001b[0;36mpost\u001b[0;34m(self, url, data, json, **kwargs)\u001b[0m\n\u001b[1;32m    533\u001b[0m         \"\"\"\n\u001b[1;32m    534\u001b[0m \u001b[0;34m\u001b[0m\u001b[0m\n\u001b[0;32m--> 535\u001b[0;31m         \u001b[0;32mreturn\u001b[0m \u001b[0mself\u001b[0m\u001b[0;34m.\u001b[0m\u001b[0mrequest\u001b[0m\u001b[0;34m(\u001b[0m\u001b[0;34m'POST'\u001b[0m\u001b[0;34m,\u001b[0m \u001b[0murl\u001b[0m\u001b[0;34m,\u001b[0m \u001b[0mdata\u001b[0m\u001b[0;34m=\u001b[0m\u001b[0mdata\u001b[0m\u001b[0;34m,\u001b[0m \u001b[0mjson\u001b[0m\u001b[0;34m=\u001b[0m\u001b[0mjson\u001b[0m\u001b[0;34m,\u001b[0m \u001b[0;34m**\u001b[0m\u001b[0mkwargs\u001b[0m\u001b[0;34m)\u001b[0m\u001b[0;34m\u001b[0m\u001b[0m\n\u001b[0m\u001b[1;32m    536\u001b[0m \u001b[0;34m\u001b[0m\u001b[0m\n\u001b[1;32m    537\u001b[0m     \u001b[0;32mdef\u001b[0m \u001b[0mput\u001b[0m\u001b[0;34m(\u001b[0m\u001b[0mself\u001b[0m\u001b[0;34m,\u001b[0m \u001b[0murl\u001b[0m\u001b[0;34m,\u001b[0m \u001b[0mdata\u001b[0m\u001b[0;34m=\u001b[0m\u001b[0mNone\u001b[0m\u001b[0;34m,\u001b[0m \u001b[0;34m**\u001b[0m\u001b[0mkwargs\u001b[0m\u001b[0;34m)\u001b[0m\u001b[0;34m:\u001b[0m\u001b[0;34m\u001b[0m\u001b[0m\n",
      "\u001b[0;32m/home/lngo/.local/lib/python2.7/site-packages/requests-2.13.0-py2.7.egg/requests/sessions.pyc\u001b[0m in \u001b[0;36mrequest\u001b[0;34m(self, method, url, params, data, headers, cookies, files, auth, timeout, allow_redirects, proxies, hooks, stream, verify, cert, json)\u001b[0m\n\u001b[1;32m    486\u001b[0m         }\n\u001b[1;32m    487\u001b[0m         \u001b[0msend_kwargs\u001b[0m\u001b[0;34m.\u001b[0m\u001b[0mupdate\u001b[0m\u001b[0;34m(\u001b[0m\u001b[0msettings\u001b[0m\u001b[0;34m)\u001b[0m\u001b[0;34m\u001b[0m\u001b[0m\n\u001b[0;32m--> 488\u001b[0;31m         \u001b[0mresp\u001b[0m \u001b[0;34m=\u001b[0m \u001b[0mself\u001b[0m\u001b[0;34m.\u001b[0m\u001b[0msend\u001b[0m\u001b[0;34m(\u001b[0m\u001b[0mprep\u001b[0m\u001b[0;34m,\u001b[0m \u001b[0;34m**\u001b[0m\u001b[0msend_kwargs\u001b[0m\u001b[0;34m)\u001b[0m\u001b[0;34m\u001b[0m\u001b[0m\n\u001b[0m\u001b[1;32m    489\u001b[0m \u001b[0;34m\u001b[0m\u001b[0m\n\u001b[1;32m    490\u001b[0m         \u001b[0;32mreturn\u001b[0m \u001b[0mresp\u001b[0m\u001b[0;34m\u001b[0m\u001b[0m\n",
      "\u001b[0;32m/home/lngo/.local/lib/python2.7/site-packages/requests-2.13.0-py2.7.egg/requests/sessions.pyc\u001b[0m in \u001b[0;36msend\u001b[0;34m(self, request, **kwargs)\u001b[0m\n\u001b[1;32m    607\u001b[0m \u001b[0;34m\u001b[0m\u001b[0m\n\u001b[1;32m    608\u001b[0m         \u001b[0;31m# Send the request\u001b[0m\u001b[0;34m\u001b[0m\u001b[0;34m\u001b[0m\u001b[0m\n\u001b[0;32m--> 609\u001b[0;31m         \u001b[0mr\u001b[0m \u001b[0;34m=\u001b[0m \u001b[0madapter\u001b[0m\u001b[0;34m.\u001b[0m\u001b[0msend\u001b[0m\u001b[0;34m(\u001b[0m\u001b[0mrequest\u001b[0m\u001b[0;34m,\u001b[0m \u001b[0;34m**\u001b[0m\u001b[0mkwargs\u001b[0m\u001b[0;34m)\u001b[0m\u001b[0;34m\u001b[0m\u001b[0m\n\u001b[0m\u001b[1;32m    610\u001b[0m \u001b[0;34m\u001b[0m\u001b[0m\n\u001b[1;32m    611\u001b[0m         \u001b[0;31m# Total elapsed time of the request (approximately)\u001b[0m\u001b[0;34m\u001b[0m\u001b[0;34m\u001b[0m\u001b[0m\n",
      "\u001b[0;32m/home/lngo/.local/lib/python2.7/site-packages/requests-2.13.0-py2.7.egg/requests/adapters.pyc\u001b[0m in \u001b[0;36msend\u001b[0;34m(self, request, stream, timeout, verify, cert, proxies)\u001b[0m\n\u001b[1;32m    421\u001b[0m                     \u001b[0mdecode_content\u001b[0m\u001b[0;34m=\u001b[0m\u001b[0mFalse\u001b[0m\u001b[0;34m,\u001b[0m\u001b[0;34m\u001b[0m\u001b[0m\n\u001b[1;32m    422\u001b[0m                     \u001b[0mretries\u001b[0m\u001b[0;34m=\u001b[0m\u001b[0mself\u001b[0m\u001b[0;34m.\u001b[0m\u001b[0mmax_retries\u001b[0m\u001b[0;34m,\u001b[0m\u001b[0;34m\u001b[0m\u001b[0m\n\u001b[0;32m--> 423\u001b[0;31m                     \u001b[0mtimeout\u001b[0m\u001b[0;34m=\u001b[0m\u001b[0mtimeout\u001b[0m\u001b[0;34m\u001b[0m\u001b[0m\n\u001b[0m\u001b[1;32m    424\u001b[0m                 )\n\u001b[1;32m    425\u001b[0m \u001b[0;34m\u001b[0m\u001b[0m\n",
      "\u001b[0;32m/home/lngo/.local/lib/python2.7/site-packages/requests-2.13.0-py2.7.egg/requests/packages/urllib3/connectionpool.pyc\u001b[0m in \u001b[0;36murlopen\u001b[0;34m(self, method, url, body, headers, retries, redirect, assert_same_host, timeout, pool_timeout, release_conn, chunked, body_pos, **response_kw)\u001b[0m\n\u001b[1;32m    598\u001b[0m                                                   \u001b[0mtimeout\u001b[0m\u001b[0;34m=\u001b[0m\u001b[0mtimeout_obj\u001b[0m\u001b[0;34m,\u001b[0m\u001b[0;34m\u001b[0m\u001b[0m\n\u001b[1;32m    599\u001b[0m                                                   \u001b[0mbody\u001b[0m\u001b[0;34m=\u001b[0m\u001b[0mbody\u001b[0m\u001b[0;34m,\u001b[0m \u001b[0mheaders\u001b[0m\u001b[0;34m=\u001b[0m\u001b[0mheaders\u001b[0m\u001b[0;34m,\u001b[0m\u001b[0;34m\u001b[0m\u001b[0m\n\u001b[0;32m--> 600\u001b[0;31m                                                   chunked=chunked)\n\u001b[0m\u001b[1;32m    601\u001b[0m \u001b[0;34m\u001b[0m\u001b[0m\n\u001b[1;32m    602\u001b[0m             \u001b[0;31m# If we're going to release the connection in ``finally:``, then\u001b[0m\u001b[0;34m\u001b[0m\u001b[0;34m\u001b[0m\u001b[0m\n",
      "\u001b[0;32m/home/lngo/.local/lib/python2.7/site-packages/requests-2.13.0-py2.7.egg/requests/packages/urllib3/connectionpool.pyc\u001b[0m in \u001b[0;36m_make_request\u001b[0;34m(self, conn, method, url, timeout, chunked, **httplib_request_kw)\u001b[0m\n\u001b[1;32m    343\u001b[0m         \u001b[0;31m# Trigger any extra validation we need to do.\u001b[0m\u001b[0;34m\u001b[0m\u001b[0;34m\u001b[0m\u001b[0m\n\u001b[1;32m    344\u001b[0m         \u001b[0;32mtry\u001b[0m\u001b[0;34m:\u001b[0m\u001b[0;34m\u001b[0m\u001b[0m\n\u001b[0;32m--> 345\u001b[0;31m             \u001b[0mself\u001b[0m\u001b[0;34m.\u001b[0m\u001b[0m_validate_conn\u001b[0m\u001b[0;34m(\u001b[0m\u001b[0mconn\u001b[0m\u001b[0;34m)\u001b[0m\u001b[0;34m\u001b[0m\u001b[0m\n\u001b[0m\u001b[1;32m    346\u001b[0m         \u001b[0;32mexcept\u001b[0m \u001b[0;34m(\u001b[0m\u001b[0mSocketTimeout\u001b[0m\u001b[0;34m,\u001b[0m \u001b[0mBaseSSLError\u001b[0m\u001b[0;34m)\u001b[0m \u001b[0;32mas\u001b[0m \u001b[0me\u001b[0m\u001b[0;34m:\u001b[0m\u001b[0;34m\u001b[0m\u001b[0m\n\u001b[1;32m    347\u001b[0m             \u001b[0;31m# Py2 raises this as a BaseSSLError, Py3 raises it as socket timeout.\u001b[0m\u001b[0;34m\u001b[0m\u001b[0;34m\u001b[0m\u001b[0m\n",
      "\u001b[0;32m/home/lngo/.local/lib/python2.7/site-packages/requests-2.13.0-py2.7.egg/requests/packages/urllib3/connectionpool.pyc\u001b[0m in \u001b[0;36m_validate_conn\u001b[0;34m(self, conn)\u001b[0m\n\u001b[1;32m    842\u001b[0m         \u001b[0;31m# Force connect early to allow us to validate the connection.\u001b[0m\u001b[0;34m\u001b[0m\u001b[0;34m\u001b[0m\u001b[0m\n\u001b[1;32m    843\u001b[0m         \u001b[0;32mif\u001b[0m \u001b[0;32mnot\u001b[0m \u001b[0mgetattr\u001b[0m\u001b[0;34m(\u001b[0m\u001b[0mconn\u001b[0m\u001b[0;34m,\u001b[0m \u001b[0;34m'sock'\u001b[0m\u001b[0;34m,\u001b[0m \u001b[0mNone\u001b[0m\u001b[0;34m)\u001b[0m\u001b[0;34m:\u001b[0m  \u001b[0;31m# AppEngine might not have  `.sock`\u001b[0m\u001b[0;34m\u001b[0m\u001b[0m\n\u001b[0;32m--> 844\u001b[0;31m             \u001b[0mconn\u001b[0m\u001b[0;34m.\u001b[0m\u001b[0mconnect\u001b[0m\u001b[0;34m(\u001b[0m\u001b[0;34m)\u001b[0m\u001b[0;34m\u001b[0m\u001b[0m\n\u001b[0m\u001b[1;32m    845\u001b[0m \u001b[0;34m\u001b[0m\u001b[0m\n\u001b[1;32m    846\u001b[0m         \u001b[0;32mif\u001b[0m \u001b[0;32mnot\u001b[0m \u001b[0mconn\u001b[0m\u001b[0;34m.\u001b[0m\u001b[0mis_verified\u001b[0m\u001b[0;34m:\u001b[0m\u001b[0;34m\u001b[0m\u001b[0m\n",
      "\u001b[0;32m/home/lngo/.local/lib/python2.7/site-packages/requests-2.13.0-py2.7.egg/requests/packages/urllib3/connection.pyc\u001b[0m in \u001b[0;36mconnect\u001b[0;34m(self)\u001b[0m\n\u001b[1;32m    324\u001b[0m             \u001b[0mca_cert_dir\u001b[0m\u001b[0;34m=\u001b[0m\u001b[0mself\u001b[0m\u001b[0;34m.\u001b[0m\u001b[0mca_cert_dir\u001b[0m\u001b[0;34m,\u001b[0m\u001b[0;34m\u001b[0m\u001b[0m\n\u001b[1;32m    325\u001b[0m             \u001b[0mserver_hostname\u001b[0m\u001b[0;34m=\u001b[0m\u001b[0mhostname\u001b[0m\u001b[0;34m,\u001b[0m\u001b[0;34m\u001b[0m\u001b[0m\n\u001b[0;32m--> 326\u001b[0;31m             ssl_context=context)\n\u001b[0m\u001b[1;32m    327\u001b[0m \u001b[0;34m\u001b[0m\u001b[0m\n\u001b[1;32m    328\u001b[0m         \u001b[0;32mif\u001b[0m \u001b[0mself\u001b[0m\u001b[0;34m.\u001b[0m\u001b[0massert_fingerprint\u001b[0m\u001b[0;34m:\u001b[0m\u001b[0;34m\u001b[0m\u001b[0m\n",
      "\u001b[0;32m/home/lngo/.local/lib/python2.7/site-packages/requests-2.13.0-py2.7.egg/requests/packages/urllib3/util/ssl_.pyc\u001b[0m in \u001b[0;36mssl_wrap_socket\u001b[0;34m(sock, keyfile, certfile, cert_reqs, ca_certs, server_hostname, ssl_version, ciphers, ssl_context, ca_cert_dir)\u001b[0m\n\u001b[1;32m    320\u001b[0m \u001b[0;34m\u001b[0m\u001b[0m\n\u001b[1;32m    321\u001b[0m     \u001b[0;32mif\u001b[0m \u001b[0mcertfile\u001b[0m\u001b[0;34m:\u001b[0m\u001b[0;34m\u001b[0m\u001b[0m\n\u001b[0;32m--> 322\u001b[0;31m         \u001b[0mcontext\u001b[0m\u001b[0;34m.\u001b[0m\u001b[0mload_cert_chain\u001b[0m\u001b[0;34m(\u001b[0m\u001b[0mcertfile\u001b[0m\u001b[0;34m,\u001b[0m \u001b[0mkeyfile\u001b[0m\u001b[0;34m)\u001b[0m\u001b[0;34m\u001b[0m\u001b[0m\n\u001b[0m\u001b[1;32m    323\u001b[0m     \u001b[0;32mif\u001b[0m \u001b[0mHAS_SNI\u001b[0m\u001b[0;34m:\u001b[0m  \u001b[0;31m# Platform-specific: OpenSSL with enabled SNI\u001b[0m\u001b[0;34m\u001b[0m\u001b[0m\n\u001b[1;32m    324\u001b[0m         \u001b[0;32mreturn\u001b[0m \u001b[0mcontext\u001b[0m\u001b[0;34m.\u001b[0m\u001b[0mwrap_socket\u001b[0m\u001b[0;34m(\u001b[0m\u001b[0msock\u001b[0m\u001b[0;34m,\u001b[0m \u001b[0mserver_hostname\u001b[0m\u001b[0;34m=\u001b[0m\u001b[0mserver_hostname\u001b[0m\u001b[0;34m)\u001b[0m\u001b[0;34m\u001b[0m\u001b[0m\n",
      "\u001b[0;32m/home/lngo/.local/lib/python2.7/site-packages/requests-2.13.0-py2.7.egg/requests/packages/urllib3/contrib/pyopenssl.pyc\u001b[0m in \u001b[0;36mload_cert_chain\u001b[0;34m(self, certfile, keyfile, password)\u001b[0m\n\u001b[1;32m    417\u001b[0m         \u001b[0;32mif\u001b[0m \u001b[0mpassword\u001b[0m \u001b[0;32mis\u001b[0m \u001b[0;32mnot\u001b[0m \u001b[0mNone\u001b[0m\u001b[0;34m:\u001b[0m\u001b[0;34m\u001b[0m\u001b[0m\n\u001b[1;32m    418\u001b[0m             \u001b[0mself\u001b[0m\u001b[0;34m.\u001b[0m\u001b[0m_ctx\u001b[0m\u001b[0;34m.\u001b[0m\u001b[0mset_passwd_cb\u001b[0m\u001b[0;34m(\u001b[0m\u001b[0;32mlambda\u001b[0m \u001b[0mmax_length\u001b[0m\u001b[0;34m,\u001b[0m \u001b[0mprompt_twice\u001b[0m\u001b[0;34m,\u001b[0m \u001b[0muserdata\u001b[0m\u001b[0;34m:\u001b[0m \u001b[0mpassword\u001b[0m\u001b[0;34m)\u001b[0m\u001b[0;34m\u001b[0m\u001b[0m\n\u001b[0;32m--> 419\u001b[0;31m         \u001b[0mself\u001b[0m\u001b[0;34m.\u001b[0m\u001b[0m_ctx\u001b[0m\u001b[0;34m.\u001b[0m\u001b[0muse_privatekey_file\u001b[0m\u001b[0;34m(\u001b[0m\u001b[0mkeyfile\u001b[0m \u001b[0;32mor\u001b[0m \u001b[0mcertfile\u001b[0m\u001b[0;34m)\u001b[0m\u001b[0;34m\u001b[0m\u001b[0m\n\u001b[0m\u001b[1;32m    420\u001b[0m \u001b[0;34m\u001b[0m\u001b[0m\n\u001b[1;32m    421\u001b[0m     def wrap_socket(self, sock, server_side=False,\n",
      "\u001b[0;32m/software/anaconda/4.2.0/lib/python2.7/site-packages/OpenSSL/SSL.pyc\u001b[0m in \u001b[0;36muse_privatekey_file\u001b[0;34m(self, keyfile, filetype)\u001b[0m\n\u001b[1;32m    663\u001b[0m             self._context, keyfile, filetype)\n\u001b[1;32m    664\u001b[0m         \u001b[0;32mif\u001b[0m \u001b[0;32mnot\u001b[0m \u001b[0muse_result\u001b[0m\u001b[0;34m:\u001b[0m\u001b[0;34m\u001b[0m\u001b[0m\n\u001b[0;32m--> 665\u001b[0;31m             \u001b[0mself\u001b[0m\u001b[0;34m.\u001b[0m\u001b[0m_raise_passphrase_exception\u001b[0m\u001b[0;34m(\u001b[0m\u001b[0;34m)\u001b[0m\u001b[0;34m\u001b[0m\u001b[0m\n\u001b[0m\u001b[1;32m    666\u001b[0m \u001b[0;34m\u001b[0m\u001b[0m\n\u001b[1;32m    667\u001b[0m     \u001b[0;32mdef\u001b[0m \u001b[0muse_privatekey\u001b[0m\u001b[0;34m(\u001b[0m\u001b[0mself\u001b[0m\u001b[0;34m,\u001b[0m \u001b[0mpkey\u001b[0m\u001b[0;34m)\u001b[0m\u001b[0;34m:\u001b[0m\u001b[0;34m\u001b[0m\u001b[0m\n",
      "\u001b[0;32m/software/anaconda/4.2.0/lib/python2.7/site-packages/OpenSSL/SSL.pyc\u001b[0m in \u001b[0;36m_raise_passphrase_exception\u001b[0;34m(self)\u001b[0m\n\u001b[1;32m    639\u001b[0m     \u001b[0;32mdef\u001b[0m \u001b[0m_raise_passphrase_exception\u001b[0m\u001b[0;34m(\u001b[0m\u001b[0mself\u001b[0m\u001b[0;34m)\u001b[0m\u001b[0;34m:\u001b[0m\u001b[0;34m\u001b[0m\u001b[0m\n\u001b[1;32m    640\u001b[0m         \u001b[0;32mif\u001b[0m \u001b[0mself\u001b[0m\u001b[0;34m.\u001b[0m\u001b[0m_passphrase_helper\u001b[0m \u001b[0;32mis\u001b[0m \u001b[0mNone\u001b[0m\u001b[0;34m:\u001b[0m\u001b[0;34m\u001b[0m\u001b[0m\n\u001b[0;32m--> 641\u001b[0;31m             \u001b[0m_raise_current_error\u001b[0m\u001b[0;34m(\u001b[0m\u001b[0;34m)\u001b[0m\u001b[0;34m\u001b[0m\u001b[0m\n\u001b[0m\u001b[1;32m    642\u001b[0m         \u001b[0mexception\u001b[0m \u001b[0;34m=\u001b[0m \u001b[0mself\u001b[0m\u001b[0;34m.\u001b[0m\u001b[0m_passphrase_helper\u001b[0m\u001b[0;34m.\u001b[0m\u001b[0mraise_if_problem\u001b[0m\u001b[0;34m(\u001b[0m\u001b[0mError\u001b[0m\u001b[0;34m)\u001b[0m\u001b[0;34m\u001b[0m\u001b[0m\n\u001b[1;32m    643\u001b[0m         \u001b[0;32mif\u001b[0m \u001b[0mexception\u001b[0m \u001b[0;32mis\u001b[0m \u001b[0;32mnot\u001b[0m \u001b[0mNone\u001b[0m\u001b[0;34m:\u001b[0m\u001b[0;34m\u001b[0m\u001b[0m\n",
      "\u001b[0;32m/software/anaconda/4.2.0/lib/python2.7/site-packages/OpenSSL/_util.pyc\u001b[0m in \u001b[0;36mexception_from_error_queue\u001b[0;34m(exception_type)\u001b[0m\n\u001b[1;32m     46\u001b[0m             text(lib.ERR_reason_error_string(error))))\n\u001b[1;32m     47\u001b[0m \u001b[0;34m\u001b[0m\u001b[0m\n\u001b[0;32m---> 48\u001b[0;31m     \u001b[0;32mraise\u001b[0m \u001b[0mexception_type\u001b[0m\u001b[0;34m(\u001b[0m\u001b[0merrors\u001b[0m\u001b[0;34m)\u001b[0m\u001b[0;34m\u001b[0m\u001b[0m\n\u001b[0m\u001b[1;32m     49\u001b[0m \u001b[0;34m\u001b[0m\u001b[0m\n\u001b[1;32m     50\u001b[0m \u001b[0;34m\u001b[0m\u001b[0m\n",
      "\u001b[0;31mError\u001b[0m: [('PEM routines', 'PEM_def_callback', 'problems getting password'), ('PEM routines', 'PEM_do_header', 'bad password read'), ('SSL routines', 'SSL_CTX_use_PrivateKey_file', 'PEM lib')]"
     ]
    }
   ],
   "source": [
    "from geni.aggregate import FrameworkRegistry\n",
    "from geni.aggregate.context import Context\n",
    "from geni.aggregate.user import User\n",
    "\n",
    "def buildContext ():\n",
    "    framework = FrameworkRegistry.get(\"portal\")()\n",
    "    framework.cert = \"/home/lngo/.cert/cloudlab.pem\"\n",
    "    framework.key = \"/home/lngo/.cert/cloudlab.pem\"\n",
    "      \n",
    "    user = User()\n",
    "    user.name = \"lngo\"\n",
    "    user.urn = \"urn:publicid:IDN+ch.geni.net+user+lngo\"\n",
    "    user.addKey(\"/home/lngo/.ssh/id_rsa.pub\")\n",
    "\n",
    "    context = Context()\n",
    "    context.addUser(user)\n",
    "    context.cf = framework\n",
    "    context.project = \"BDSLab\"\n",
    "    \n",
    "    return context\n",
    "\n",
    "context = buildContext()\n",
    "import geni.aggregate.instageni as IG\n",
    "import pprint\n",
    "pprint.pprint(IG.GPO.getversion(context))"
   ]
  },
  {
   "cell_type": "code",
   "execution_count": 11,
   "metadata": {
    "collapsed": false
   },
   "outputs": [
    {
     "name": "stdout",
     "output_type": "stream",
     "text": [
      "/bin/sh: line 0: unset: `spark-submit': not a valid identifier\n",
      "/bin/sh: line 0: unset: `spark-sql': not a valid identifier\n",
      "/bin/sh: line 0: unset: `spark-shell': not a valid identifier\n",
      "Traceback (most recent call last):\n",
      "  File \"cloudlab-geni-examples/singleXenVM.py\", line 16, in <module>\n",
      "    node = request.XenVM(\"node\")\n",
      "AttributeError: 'Request' object has no attribute 'XenVM'\n",
      "Exception TypeError: TypeError(\"'NoneType' object is not callable\",) in <bound method TempfileManager.__del__ of <geni.tempfile.TempfileManager object at 0x2b5035ceba10>> ignored\n"
     ]
    }
   ],
   "source": [
    "!module purge; module add anaconda/4.3.0; python cloudlab-geni-examples/singleXenVM.py"
   ]
  },
  {
   "cell_type": "code",
   "execution_count": 13,
   "metadata": {
    "collapsed": false
   },
   "outputs": [
    {
     "ename": "NameError",
     "evalue": "name 'reqquest' is not defined",
     "output_type": "error",
     "traceback": [
      "\u001b[0;31m---------------------------------------------------------------------------\u001b[0m",
      "\u001b[0;31mNameError\u001b[0m                                 Traceback (most recent call last)",
      "\u001b[0;32m<ipython-input-13-420727b0e44c>\u001b[0m in \u001b[0;36m<module>\u001b[0;34m()\u001b[0m\n\u001b[1;32m      3\u001b[0m \u001b[0;34m\u001b[0m\u001b[0m\n\u001b[1;32m      4\u001b[0m \u001b[0mrequest\u001b[0m \u001b[0;34m=\u001b[0m \u001b[0mrspec\u001b[0m\u001b[0;34m.\u001b[0m\u001b[0mRequest\u001b[0m\u001b[0;34m(\u001b[0m\u001b[0;34m)\u001b[0m\u001b[0;34m\u001b[0m\u001b[0m\n\u001b[0;32m----> 5\u001b[0;31m \u001b[0mnode\u001b[0m \u001b[0;34m=\u001b[0m \u001b[0mreqquest\u001b[0m\u001b[0;34m\u001b[0m\u001b[0m\n\u001b[0m",
      "\u001b[0;31mNameError\u001b[0m: name 'reqquest' is not defined"
     ]
    }
   ],
   "source": [
    "import geni.portal as portal\n",
    "import geni.rspec.pg as rspec\n",
    "\n",
    "request = rspec.Request()\n",
    "node = request.ad"
   ]
  },
  {
   "cell_type": "code",
   "execution_count": 3,
   "metadata": {
    "collapsed": false
   },
   "outputs": [
    {
     "ename": "AttributeError",
     "evalue": "'Request' object has no attribute 'XenVM'",
     "output_type": "error",
     "traceback": [
      "\u001b[0;31m---------------------------------------------------------------------------\u001b[0m",
      "\u001b[0;31mAttributeError\u001b[0m                            Traceback (most recent call last)",
      "\u001b[0;32m<ipython-input-3-2c72907976e2>\u001b[0m in \u001b[0;36m<module>\u001b[0;34m()\u001b[0m\n\u001b[1;32m      3\u001b[0m \u001b[0;34m\u001b[0m\u001b[0m\n\u001b[1;32m      4\u001b[0m \u001b[0mrequest\u001b[0m \u001b[0;34m=\u001b[0m \u001b[0mrspec\u001b[0m\u001b[0;34m.\u001b[0m\u001b[0mRequest\u001b[0m\u001b[0;34m(\u001b[0m\u001b[0;34m)\u001b[0m\u001b[0;34m\u001b[0m\u001b[0m\n\u001b[0;32m----> 5\u001b[0;31m \u001b[0mnode1\u001b[0m \u001b[0;34m=\u001b[0m \u001b[0mrequest\u001b[0m\u001b[0;34m.\u001b[0m\u001b[0mXenVM\u001b[0m\u001b[0;34m(\u001b[0m\u001b[0;34m\"node1\"\u001b[0m\u001b[0;34m)\u001b[0m\u001b[0;34m\u001b[0m\u001b[0m\n\u001b[0m\u001b[1;32m      6\u001b[0m \u001b[0miface1\u001b[0m \u001b[0;34m=\u001b[0m \u001b[0mnode1\u001b[0m\u001b[0;34m.\u001b[0m\u001b[0maddInterface\u001b[0m\u001b[0;34m(\u001b[0m\u001b[0;34m\"if1\"\u001b[0m\u001b[0;34m)\u001b[0m\u001b[0;34m\u001b[0m\u001b[0m\n\u001b[1;32m      7\u001b[0m \u001b[0;34m\u001b[0m\u001b[0m\n",
      "\u001b[0;31mAttributeError\u001b[0m: 'Request' object has no attribute 'XenVM'"
     ]
    }
   ],
   "source": [
    "import geni.portal as portal\n",
    "import geni.rspec.pg as rspec\n",
    "\n",
    "request = rspec.Request()\n",
    "node1 = request.XenVM(\"node1\")\n",
    "iface1 = node1.addInterface(\"if1\")\n",
    "\n",
    "# Specify the component id and the IPv4 address\n",
    "iface1.component_id = \"eth1\"\n",
    "iface1.addAddress(rspec.IPv4Address(\"192.168.1.1\", \"255.255.255.0\"))\n",
    "\n",
    "node2 = request.XenVM(\"node2\")\n",
    "iface2 = node2.addInterface(\"if2\")\n",
    "\n",
    "# Specify the component id and the IPv4 address\n",
    "iface2.component_id = \"eth2\"\n",
    "iface2.addAddress(rspec.IPv4Address(\"192.168.1.2\", \"255.255.255.0\"))\n",
    "\n",
    "link = request.LAN(\"lan\")\n",
    "\n",
    "link.addInterface(iface1)\n",
    "link.addInterface(iface2)\n",
    "\n",
    "portal.context.printRequestRSpec()"
   ]
  },
  {
   "cell_type": "code",
   "execution_count": 15,
   "metadata": {
    "collapsed": false
   },
   "outputs": [
    {
     "name": "stdout",
     "output_type": "stream",
     "text": [
      "Overwriting hpccsystems.py\n"
     ]
    }
   ],
   "source": [
    "%%writefile hpccsystems.py\n",
    "import geni.portal as portal\n",
    "import geni.rspec.pg as rspec\n",
    "import geni.rspec.igext as IG\n",
    "\n",
    "pc = portal.Context()\n",
    "request = rspec.Request()\n",
    "\n",
    "pc.defineParameter(\"workerCount\",\n",
    "                   \"Number of HPCC thorslaves (multiple of 4)\",\n",
    "                   portal.ParameterType.INTEGER, 4)\n",
    "\n",
    "pc.defineParameter(\"controllerHost\", \"Name of controller node\",\n",
    "                   portal.ParameterType.STRING, \"node0\", advanced=True,\n",
    "                   longDescription=\"The short name of the controller node.  You shold leave this alone unless you really want the hostname to change.\")\n",
    "\n",
    "params = pc.bindParameters()\n",
    "\n",
    "tourDescription = \"This profile provides a configurable HPCCSystems testbed one master and customizable thorslaves (multiples of four).\"\n",
    "\n",
    "tourInstructions = \\\n",
    "  \"\"\"\n",
    "### Basic Instructions\n",
    "Once your experiment nodes have booted, and this profile's configuration scripts have finished deploying HPCCSystems inside your experiment, you'll be able to visit [the ECLWatch interface](http://{host-%s}:8010) (approx. 5-15 minutes).  \n",
    "\"\"\" % (params.controllerHost)\n",
    "\n",
    "#\n",
    "# Setup the Tour info with the above description and instructions.\n",
    "#  \n",
    "tour = IG.Tour()\n",
    "tour.Description(IG.Tour.TEXT,tourDescription)\n",
    "tour.Instructions(IG.Tour.MARKDOWN,tourInstructions)\n",
    "request.addTour(tour)\n",
    "\n",
    "\n",
    "# Create a Request object to start building the RSpec.\n",
    "#request = portal.context.makeRequestRSpec()\n",
    "#request \n",
    "# Create a link with type LAN\n",
    "link = request.LAN(\"lan\")\n",
    "\n",
    "# Generate the nodes\n",
    "for i in range(params.workerCount + 1):\n",
    "    node = request.RawPC(\"node\" + str(i))\n",
    "    node.disk_image = \"urn:publicid:IDN+emulab.net+image+emulab-ops:UBUNTU14-64-STD\"\n",
    "    iface = node.addInterface(\"if\" + str(i))\n",
    "    iface.component_id = \"eth1\"\n",
    "    iface.addAddress(rspec.IPv4Address(\"192.168.1.\" + str(i + 1), \"255.255.255.0\"))\n",
    "    link.addInterface(iface)\n",
    "    \n",
    "    node.addService(rspec.Execute(shell=\"/bin/sh\",\n",
    "                                  command=\"sudo adduser --ingroup admin --disabled-password hpcc\"))\n",
    "    node.addService(rspec.Execute(shell=\"/bin/sh\",\n",
    "                                  command=\"sudo adduser hpcc sudo\"))\n",
    "    node.addService(rspec.Execute(shell=\"/bin/sh\",\n",
    "                                  command=\"sudo apt-get update\"))\n",
    "    node.addService(rspec.Execute(shell=\"/bin/sh\",\n",
    "                                  command=\"sudo wget http://cdn.hpccsystems.com/releases/CE-Candidate-5.2.2/bin/platform/hpccsystems-platform-community_5.2.2-1trusty_amd64.deb\"))\n",
    "    node.addService(rspec.Execute(shell=\"/bin/sh\",\n",
    "                                  command=\"sudo dpkg -i hpccsystems-platform-community_5.2.2-1trusty_amd64.deb\"))\n",
    "    node.addService(rspec.Execute(shell=\"/bin/sh\",\n",
    "                                  command=\"sudo apt-get -y -f install\"))\n",
    "    getEnvFile = \"sudo wget https://raw.githubusercontent.com/clemsonbds/hpccsystems/master/environments/\" + str(params.workerCount) + \".xml -O /etc/HPCCSystems/environment.xml\"\n",
    "    node.addService(rspec.Execute(shell=\"/bin/sh\",\n",
    "                                  command=getEnvFile))\n",
    "    node.addService(rspec.Execute(shell=\"/bin/sh\",\n",
    "                                  command=\"sudo wget https://raw.githubusercontent.com/clemsonbds/hpccsystems/master/conf/environment.conf -O /etc/HPCCSystems/environment.conf\"))\n",
    "    if i == 0:\n",
    "        node.addService(rspec.Execute(shell=\"/bin/sh\",\n",
    "                                      command=\"sleep 60\"))\n",
    "        node.addService(rspec.Execute(shell=\"/bin/sh\",\n",
    "                                      command=\"sudo service hpcc-init start\"))\n",
    "\n",
    "# Print the RSpec to the enclosing page.\n",
    "portal.context.printRequestRSpec(request)"
   ]
  },
  {
   "cell_type": "code",
   "execution_count": 16,
   "metadata": {
    "collapsed": false
   },
   "outputs": [
    {
     "name": "stdout",
     "output_type": "stream",
     "text": [
      "<rspec xmlns:client=\"http://www.protogeni.net/resources/rspec/ext/client/1\" xmlns:emulab=\"http://www.protogeni.net/resources/rspec/ext/emulab/1\" xmlns:jacks=\"http://www.protogeni.net/resources/rspec/ext/jacks/1\" xmlns:xsi=\"http://www.w3.org/2001/XMLSchema-instance\" xmlns=\"http://www.geni.net/resources/rspec/3\" xsi:schemaLocation=\"http://www.geni.net/resources/rspec/3 http://www.geni.net/resources/rspec/3/request.xsd\" type=\"request\">\r\n",
      "  <rspec_tour xmlns=\"http://www.protogeni.net/resources/rspec/ext/apt-tour/1\">\r\n",
      "    <description type=\"text\">This profile provides a configurable HPCCSystems testbed one master and customizable thorslaves (multiples of four).</description>\r\n",
      "    <instructions type=\"markdown\">\r\n",
      "### Basic Instructions\r\n",
      "Once your experiment nodes have booted, and this profile's configuration scripts have finished deploying HPCCSystems inside your experiment, you'll be able to visit [the ECLWatch interface](http://{host-node0}:8010) (approx. 5-15 minutes).  \r\n",
      "</instructions>\r\n",
      "  </rspec_tour>\r\n",
      "  <link client_id=\"lan\">\r\n",
      "    <interface_ref client_id=\"node0:if0\"/>\r\n",
      "    <interface_ref client_id=\"node1:if1\"/>\r\n",
      "    <interface_ref client_id=\"node2:if2\"/>\r\n",
      "    <interface_ref client_id=\"node3:if3\"/>\r\n",
      "    <interface_ref client_id=\"node4:if4\"/>\r\n",
      "    <link_type name=\"lan\"/>\r\n",
      "  </link>\r\n",
      "  <node client_id=\"node0\" exclusive=\"true\">\r\n",
      "    <sliver_type name=\"raw\">\r\n",
      "      <disk_image name=\"urn:publicid:IDN+emulab.net+image+emulab-ops:UBUNTU14-64-STD\"/>\r\n",
      "    </sliver_type>\r\n",
      "    <interface client_id=\"node0:if0\" component_id=\"eth1\">\r\n",
      "      <ip address=\"192.168.1.1\" netmask=\"255.255.255.0\" type=\"ipv4\"/>\r\n",
      "    </interface>\r\n",
      "    <services>\r\n",
      "      <execute shell=\"/bin/sh\" command=\"sudo adduser --ingroup admin --disabled-password hpcc\"/>\r\n",
      "      <execute shell=\"/bin/sh\" command=\"sudo adduser hpcc sudo\"/>\r\n",
      "      <execute shell=\"/bin/sh\" command=\"sudo apt-get update\"/>\r\n",
      "      <execute shell=\"/bin/sh\" command=\"sudo wget http://cdn.hpccsystems.com/releases/CE-Candidate-5.2.2/bin/platform/hpccsystems-platform-community_5.2.2-1trusty_amd64.deb\"/>\r\n",
      "      <execute shell=\"/bin/sh\" command=\"sudo dpkg -i hpccsystems-platform-community_5.2.2-1trusty_amd64.deb\"/>\r\n",
      "      <execute shell=\"/bin/sh\" command=\"sudo apt-get -y -f install\"/>\r\n",
      "      <execute shell=\"/bin/sh\" command=\"sudo wget https://raw.githubusercontent.com/clemsonbds/hpccsystems/master/environments/4.xml -O /etc/HPCCSystems/environment.xml\"/>\r\n",
      "      <execute shell=\"/bin/sh\" command=\"sudo wget https://raw.githubusercontent.com/clemsonbds/hpccsystems/master/conf/environment.conf -O /etc/HPCCSystems/environment.conf\"/>\r\n",
      "      <execute shell=\"/bin/sh\" command=\"sleep 60\"/>\r\n",
      "      <execute shell=\"/bin/sh\" command=\"sudo service hpcc-init start\"/>\r\n",
      "    </services>\r\n",
      "  </node>\r\n",
      "  <node client_id=\"node1\" exclusive=\"true\">\r\n",
      "    <sliver_type name=\"raw\">\r\n",
      "      <disk_image name=\"urn:publicid:IDN+emulab.net+image+emulab-ops:UBUNTU14-64-STD\"/>\r\n",
      "    </sliver_type>\r\n",
      "    <interface client_id=\"node1:if1\" component_id=\"eth1\">\r\n",
      "      <ip address=\"192.168.1.2\" netmask=\"255.255.255.0\" type=\"ipv4\"/>\r\n",
      "    </interface>\r\n",
      "    <services>\r\n",
      "      <execute shell=\"/bin/sh\" command=\"sudo adduser --ingroup admin --disabled-password hpcc\"/>\r\n",
      "      <execute shell=\"/bin/sh\" command=\"sudo adduser hpcc sudo\"/>\r\n",
      "      <execute shell=\"/bin/sh\" command=\"sudo apt-get update\"/>\r\n",
      "      <execute shell=\"/bin/sh\" command=\"sudo wget http://cdn.hpccsystems.com/releases/CE-Candidate-5.2.2/bin/platform/hpccsystems-platform-community_5.2.2-1trusty_amd64.deb\"/>\r\n",
      "      <execute shell=\"/bin/sh\" command=\"sudo dpkg -i hpccsystems-platform-community_5.2.2-1trusty_amd64.deb\"/>\r\n",
      "      <execute shell=\"/bin/sh\" command=\"sudo apt-get -y -f install\"/>\r\n",
      "      <execute shell=\"/bin/sh\" command=\"sudo wget https://raw.githubusercontent.com/clemsonbds/hpccsystems/master/environments/4.xml -O /etc/HPCCSystems/environment.xml\"/>\r\n",
      "      <execute shell=\"/bin/sh\" command=\"sudo wget https://raw.githubusercontent.com/clemsonbds/hpccsystems/master/conf/environment.conf -O /etc/HPCCSystems/environment.conf\"/>\r\n",
      "    </services>\r\n",
      "  </node>\r\n",
      "  <node client_id=\"node2\" exclusive=\"true\">\r\n",
      "    <sliver_type name=\"raw\">\r\n",
      "      <disk_image name=\"urn:publicid:IDN+emulab.net+image+emulab-ops:UBUNTU14-64-STD\"/>\r\n",
      "    </sliver_type>\r\n",
      "    <interface client_id=\"node2:if2\" component_id=\"eth1\">\r\n",
      "      <ip address=\"192.168.1.3\" netmask=\"255.255.255.0\" type=\"ipv4\"/>\r\n",
      "    </interface>\r\n",
      "    <services>\r\n",
      "      <execute shell=\"/bin/sh\" command=\"sudo adduser --ingroup admin --disabled-password hpcc\"/>\r\n",
      "      <execute shell=\"/bin/sh\" command=\"sudo adduser hpcc sudo\"/>\r\n",
      "      <execute shell=\"/bin/sh\" command=\"sudo apt-get update\"/>\r\n",
      "      <execute shell=\"/bin/sh\" command=\"sudo wget http://cdn.hpccsystems.com/releases/CE-Candidate-5.2.2/bin/platform/hpccsystems-platform-community_5.2.2-1trusty_amd64.deb\"/>\r\n",
      "      <execute shell=\"/bin/sh\" command=\"sudo dpkg -i hpccsystems-platform-community_5.2.2-1trusty_amd64.deb\"/>\r\n",
      "      <execute shell=\"/bin/sh\" command=\"sudo apt-get -y -f install\"/>\r\n",
      "      <execute shell=\"/bin/sh\" command=\"sudo wget https://raw.githubusercontent.com/clemsonbds/hpccsystems/master/environments/4.xml -O /etc/HPCCSystems/environment.xml\"/>\r\n",
      "      <execute shell=\"/bin/sh\" command=\"sudo wget https://raw.githubusercontent.com/clemsonbds/hpccsystems/master/conf/environment.conf -O /etc/HPCCSystems/environment.conf\"/>\r\n",
      "    </services>\r\n",
      "  </node>\r\n",
      "  <node client_id=\"node3\" exclusive=\"true\">\r\n",
      "    <sliver_type name=\"raw\">\r\n",
      "      <disk_image name=\"urn:publicid:IDN+emulab.net+image+emulab-ops:UBUNTU14-64-STD\"/>\r\n",
      "    </sliver_type>\r\n",
      "    <interface client_id=\"node3:if3\" component_id=\"eth1\">\r\n",
      "      <ip address=\"192.168.1.4\" netmask=\"255.255.255.0\" type=\"ipv4\"/>\r\n",
      "    </interface>\r\n",
      "    <services>\r\n",
      "      <execute shell=\"/bin/sh\" command=\"sudo adduser --ingroup admin --disabled-password hpcc\"/>\r\n",
      "      <execute shell=\"/bin/sh\" command=\"sudo adduser hpcc sudo\"/>\r\n",
      "      <execute shell=\"/bin/sh\" command=\"sudo apt-get update\"/>\r\n",
      "      <execute shell=\"/bin/sh\" command=\"sudo wget http://cdn.hpccsystems.com/releases/CE-Candidate-5.2.2/bin/platform/hpccsystems-platform-community_5.2.2-1trusty_amd64.deb\"/>\r\n",
      "      <execute shell=\"/bin/sh\" command=\"sudo dpkg -i hpccsystems-platform-community_5.2.2-1trusty_amd64.deb\"/>\r\n",
      "      <execute shell=\"/bin/sh\" command=\"sudo apt-get -y -f install\"/>\r\n",
      "      <execute shell=\"/bin/sh\" command=\"sudo wget https://raw.githubusercontent.com/clemsonbds/hpccsystems/master/environments/4.xml -O /etc/HPCCSystems/environment.xml\"/>\r\n",
      "      <execute shell=\"/bin/sh\" command=\"sudo wget https://raw.githubusercontent.com/clemsonbds/hpccsystems/master/conf/environment.conf -O /etc/HPCCSystems/environment.conf\"/>\r\n",
      "    </services>\r\n",
      "  </node>\r\n",
      "  <node client_id=\"node4\" exclusive=\"true\">\r\n",
      "    <sliver_type name=\"raw\">\r\n",
      "      <disk_image name=\"urn:publicid:IDN+emulab.net+image+emulab-ops:UBUNTU14-64-STD\"/>\r\n",
      "    </sliver_type>\r\n",
      "    <interface client_id=\"node4:if4\" component_id=\"eth1\">\r\n",
      "      <ip address=\"192.168.1.5\" netmask=\"255.255.255.0\" type=\"ipv4\"/>\r\n",
      "    </interface>\r\n",
      "    <services>\r\n",
      "      <execute shell=\"/bin/sh\" command=\"sudo adduser --ingroup admin --disabled-password hpcc\"/>\r\n",
      "      <execute shell=\"/bin/sh\" command=\"sudo adduser hpcc sudo\"/>\r\n",
      "      <execute shell=\"/bin/sh\" command=\"sudo apt-get update\"/>\r\n",
      "      <execute shell=\"/bin/sh\" command=\"sudo wget http://cdn.hpccsystems.com/releases/CE-Candidate-5.2.2/bin/platform/hpccsystems-platform-community_5.2.2-1trusty_amd64.deb\"/>\r\n",
      "      <execute shell=\"/bin/sh\" command=\"sudo dpkg -i hpccsystems-platform-community_5.2.2-1trusty_amd64.deb\"/>\r\n",
      "      <execute shell=\"/bin/sh\" command=\"sudo apt-get -y -f install\"/>\r\n",
      "      <execute shell=\"/bin/sh\" command=\"sudo wget https://raw.githubusercontent.com/clemsonbds/hpccsystems/master/environments/4.xml -O /etc/HPCCSystems/environment.xml\"/>\r\n",
      "      <execute shell=\"/bin/sh\" command=\"sudo wget https://raw.githubusercontent.com/clemsonbds/hpccsystems/master/conf/environment.conf -O /etc/HPCCSystems/environment.conf\"/>\r\n",
      "    </services>\r\n",
      "  </node>\r\n",
      "  <data_set xmlns=\"http://www.protogeni.net/resources/rspec/ext/user-data/1\">\r\n",
      "    <data_item name=\"emulab.net.parameter.controllerHost\">node0</data_item>\r\n",
      "    <data_item name=\"emulab.net.parameter.workerCount\">4</data_item>\r\n",
      "  </data_set>\r\n",
      "</rspec>\r\n"
     ]
    }
   ],
   "source": [
    "!module load anaconda/4.3.0; python hpccsystems.py"
   ]
  },
  {
   "cell_type": "code",
   "execution_count": null,
   "metadata": {
    "collapsed": true
   },
   "outputs": [],
   "source": []
  }
 ],
 "metadata": {
  "kernelspec": {
   "display_name": "Python 2 (Anaconda)",
   "language": "python",
   "name": "anaconda_py2"
  },
  "language_info": {
   "codemirror_mode": {
    "name": "ipython",
    "version": 2
   },
   "file_extension": ".py",
   "mimetype": "text/x-python",
   "name": "python",
   "nbconvert_exporter": "python",
   "pygments_lexer": "ipython2",
   "version": "2.7.12"
  }
 },
 "nbformat": 4,
 "nbformat_minor": 1
}
